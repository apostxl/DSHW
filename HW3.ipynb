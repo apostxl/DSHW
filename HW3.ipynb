{
 "cells": [
  {
   "cell_type": "code",
   "execution_count": 1,
   "id": "9bc92c8e-bfea-4f39-91f1-23bb11508acf",
   "metadata": {},
   "outputs": [],
   "source": [
    "import numpy as np\n",
    "\n",
    "def hypothesis_function(X, w):\n",
    "  \"\"\"\n",
    "  Функція гіпотези лінійної регресії у векторному вигляді.\n",
    "\n",
    "  Args:\n",
    "    X: Матриця характеристик зразків, де кожен рядок - це один зразок.\n",
    "    w: Вектор параметрів моделі.\n",
    "\n",
    "  Returns:\n",
    "    Вектор прогнозованих значень для кожного зразка.\n",
    "  \"\"\"\n",
    "  return np.dot(X, w)\n",
    "\n",
    "def loss_function(X, y, w):\n",
    "  \"\"\"\n",
    "  Функція втрат MSE у векторному вигляді.\n",
    "\n",
    "  Args:\n",
    "    X: Матриця характеристик зразків, де кожен рядок - це один зразок.\n",
    "    y: Вектор реальних значень для кожного зразка.\n",
    "    w: Вектор параметрів моделі.\n",
    "\n",
    "  Returns:\n",
    "    Значення MSE для даного набору даних та параметрів.\n",
    "  \"\"\"\n",
    "  h = hypothesis_function(X, w)\n",
    "  errors = y - h\n",
    "  return (1/2) * np.sum(errors**2)\n"
   ]
  },
  {
   "cell_type": "code",
   "execution_count": 2,
   "id": "2f5c9feb-9d54-43df-a2a3-29f300d18b02",
   "metadata": {},
   "outputs": [],
   "source": [
    "def gradient_descent_step(X, y, w, learning_rate):\n",
    "  \"\"\"\n",
    "  Один крок градієнтного спуску для MSE.\n",
    "\n",
    "  Args:\n",
    "    X: Матриця характеристик зразків, де кожен рядок - це один зразок.\n",
    "    y: Вектор реальних значень для кожного зразка.\n",
    "    w: Вектор параметрів моделі.\n",
    "    learning_rate: Крок навчання.\n",
    "\n",
    "  Returns:\n",
    "    Оновлений вектор параметрів w.\n",
    "  \"\"\"\n",
    "  h = hypothesis_function(X, w)\n",
    "  errors = y - h\n",
    "  gradient = np.dot(X.T, errors)\n",
    "  return w - learning_rate * gradient\n"
   ]
  },
  {
   "cell_type": "code",
   "execution_count": 3,
   "id": "8d23014f-2956-43a3-9cc1-2aceac9b5fb3",
   "metadata": {},
   "outputs": [],
   "source": [
    "def train_model_gd(X, y, num_iterations, learning_rate):\n",
    "  \"\"\"\n",
    "  Навчання моделі лінійної регресії за допомогою градієнтного спуску.\n",
    "\n",
    "  Args:\n",
    "    X: Матриця характеристик зразків, де кожен рядок - це один зразок.\n",
    "    y: Вектор реальних значень для кожного зразка.\n",
    "    num_iterations: Кількість ітерацій градієнтного спуску.\n",
    "    learning_rate: Крок навчання.\n",
    "\n",
    "  Returns:\n",
    "    Вектор знайдених параметрів моделі w.\n",
    "  \"\"\"\n",
    "  w = np.zeros(X.shape[1])\n",
    "  for _ in range(num_iterations):\n",
    "    w = gradient_descent_step(X, y, w, learning_rate)\n",
    "  return w\n"
   ]
  },
  {
   "cell_type": "code",
   "execution_count": 4,
   "id": "6bc17e0e-2bb4-4588-8e96-bcfa50a32186",
   "metadata": {},
   "outputs": [],
   "source": [
    "def analytical_solution(X, y):\n",
    "  \"\"\"\n",
    "  Знаходження аналітичного рішення для параметрів моделі лінійної регресії.\n",
    "\n",
    "  Args:\n",
    "    X: Матриця характеристик зразків, де кожен рядок - це один зразок.\n",
    "    y: Вектор реальних значень для кожного зразка.\n",
    "\n",
    "  Returns:\n",
    "    Вектор знайдених параметрів моделі w.\n",
    "  \"\"\"\n",
    "  XTX_inv = np.linalg.inv(np.dot(X.T, X))\n",
    "  return np.dot(XTX_inv, np.dot(X.T, y))\n"
   ]
  },
  {
   "cell_type": "code",
   "execution_count": 6,
   "id": "0bd6aa54-8c3d-4bcb-bbf8-fdaae0688510",
   "metadata": {},
   "outputs": [],
   "source": [
    "# Завантаження даних\n",
    "X = np.array([\n",
    "  [120, 2, 3],\n",
    "  [150, 3, 4],\n",
    "  [180, 4, 5],\n",
    "  [210, 5, 6],\n",
    "  [240, 6, 7],\n",
    "])\n",
    "y = np.array([250, 300, 350, 400, 450])\n",
    "\n",
    "# Навчання моделі за допомогою градієнтного спуску\n",
    "w_gd = train_model_gd(X, y, 1000, 0.01)\n"
   ]
  },
  {
   "cell_type": "code",
   "execution_count": null,
   "id": "ec57c780-4bde-4ce5-bacf-30a2f6e0ea8c",
   "metadata": {},
   "outputs": [],
   "source": []
  }
 ],
 "metadata": {
  "kernelspec": {
   "display_name": "Python 3 (ipykernel)",
   "language": "python",
   "name": "python3"
  },
  "language_info": {
   "codemirror_mode": {
    "name": "ipython",
    "version": 3
   },
   "file_extension": ".py",
   "mimetype": "text/x-python",
   "name": "python",
   "nbconvert_exporter": "python",
   "pygments_lexer": "ipython3",
   "version": "3.11.7"
  }
 },
 "nbformat": 4,
 "nbformat_minor": 5
}
