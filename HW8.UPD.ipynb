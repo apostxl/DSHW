{
 "cells": [
  {
   "cell_type": "markdown",
   "metadata": {
    "id": "b0Yf4NBJUSNM"
   },
   "source": [
    "# Створення нейронної мережі\n",
    "\n",
    "У цьому завданні ми створимо повнозв'язну нейронну мережу, використовуючи при цьому низькорівневі механізми tensorflow.\n",
    "\n",
    "Архітектура нейромережі представлена на наступному малюнку. Як бачиш, у ній є один вхідний шар, два приховані, а також вихідний шар. В якості активаційної функції у прихованих шарах буде використовуватись сигмоїда. На вихідному шарі ми використовуємо softmax.\n",
    "\n",
    "Частина коду зі створення мережі вже написана, тобі потрібно заповнити пропуски у вказаних місцях."
   ]
  },
  {
   "cell_type": "markdown",
   "metadata": {
    "id": "01rZWUu0USNQ"
   },
   "source": [
    "## Архітектура нейронної мережі\n",
    "\n",
    "<img src=\"http://cs231n.github.io/assets/nn1/neural_net2.jpeg\" alt=\"nn\" style=\"width: 400px;\"/>\n"
   ]
  },
  {
   "cell_type": "markdown",
   "metadata": {
    "id": "LLvIZ705Qw_V"
   },
   "source": [
    "## Про датасет MNIST\n",
    "\n",
    "Дану нейромережу ми будемо вивчати на датасеті MNIST. Цей датасет являє собою велику кількість зображень рукописних цифр розміром $28 \\times 28$ пікселів. Кожен піксель приймає значення від 0 до 255.\n",
    "\n",
    "Як і раніше, датасет буде розділений на навчальну та тестову вибірки. При цьому ми виконаємо нормалізацію всіх зображень, щоб значення пікселів знаходилось у проміжку від 0 до 1, розділивши яскравість кожного пікселя на 255.\n",
    "\n",
    "Окрім того, архітектура нейронної мережі очікує на вхід вектор. У нашому ж випадку кожен об'єкт вибірки являє собою матрицю. Що ж робити? У цьому завданні ми \"розтягнемо\" матрицю $28 \\times 28$, отримавши при цьому вектор, що складається з 784 елементів.\n",
    "\n",
    "![MNIST Dataset](https://www.researchgate.net/profile/Steven-Young-5/publication/306056875/figure/fig1/AS:393921575309346@1470929630835/Example-images-from-the-MNIST-dataset.png)\n",
    "\n",
    "Більше інформації про датасет можна знайти [тут](http://yann.lecun.com/exdb/mnist/)."
   ]
  },
  {
   "cell_type": "code",
   "execution_count": null,
   "metadata": {
    "id": "il_0_5OyUSNR"
   },
   "outputs": [],
   "source": [
    "!pip install tensorflow\n",
    "import tensorflow as tf\n",
    "import numpy as np\n",
    "import pandas as pd\n",
    "import matplotlib.pyplot as plt\n",
    "import random\n",
    "import keras as K\n",
    "import seaborn as sns\n",
    "from sklearn.metrics import confusion_matrix "
   ]
  },
  {
   "cell_type": "code",
   "execution_count": 14,
   "metadata": {
    "id": "cd-1_abTUSNS"
   },
   "outputs": [],
   "source": [
    "num_classes = 10 \n",
    "num_features = 784 \n",
    "\n",
    "learning_rate = 0.0001 \n",
    "training_steps = 10000 \n",
    "batch_size = 256 \n",
    "display_step = 100 \n",
    "\n",
    "n_hidden_1 = 512\n",
    "n_hidden_2 = 1024"
   ]
  },
  {
   "cell_type": "code",
   "execution_count": 15,
   "metadata": {
    "colab": {
     "base_uri": "https://localhost:8080/"
    },
    "id": "pGTXiRyTUSNT",
    "outputId": "68f5b9d9-6c78-4bda-b26f-69aa82e93f20"
   },
   "outputs": [],
   "source": [
    "from keras.datasets import mnist\n",
    "\n",
    "(x_train, y_train), (x_test, y_test) = mnist.load_data()\n",
    "x_train, x_test = np.array(x_train, np.float32), np.array(x_test, np.float32)\n",
    "x_train, x_test = x_train.reshape([-1, num_features]), x_test.reshape([-1, num_features])\n",
    "x_train, x_test = x_train / 255., x_test / 255.\n",
    "\n",
    "train_data = tf.data.Dataset.from_tensor_slices((x_train, y_train))\n",
    "train_data = train_data.repeat().shuffle(5000).batch(batch_size).prefetch(1)"
   ]
  },
  {
   "cell_type": "code",
   "execution_count": 16,
   "metadata": {
    "id": "FkRmCQjnUSNV"
   },
   "outputs": [],
   "source": [
    "class DenseLayer(tf.Module):\n",
    "    def __init__(self, in_features, out_features, name=None):\n",
    "        super().__init__(name=name)\n",
    "        self.w = tf.Variable(tf.random.normal([in_features, out_features]), name=\"w\")\n",
    "        self.b = tf.Variable(tf.zeros([out_features]), name=\"b\")\n",
    "        self.batch_norm = tf.keras.layers.BatchNormalization()\n",
    "\n",
    "    def __call__(self, x, activation=0):\n",
    "        y = tf.matmul(x, self.w) + self.b\n",
    "        y = self.batch_norm(y)  \n",
    "        if activation == 0:\n",
    "            return tf.nn.relu(y)\n",
    "        else:\n",
    "            return tf.nn.softmax(y)\n",
    "\n",
    "class NN(tf.Module):\n",
    "    def __init__(self, name=None):\n",
    "        super().__init__(name=name)\n",
    "        self.layer1 = DenseLayer(num_features, n_hidden_1)\n",
    "        self.layer2 = DenseLayer(n_hidden_1, n_hidden_2)\n",
    "        self.output_layer = DenseLayer(n_hidden_2, num_classes)\n",
    "\n",
    "    def __call__(self, x):\n",
    "        x = self.layer1(x)\n",
    "        x = self.layer2(x)\n",
    "        x = self.output_layer(x, activation=1)\n",
    "        return x"
   ]
  },
  {
   "cell_type": "code",
   "execution_count": 17,
   "metadata": {
    "id": "LIf3o7VAUSNV"
   },
   "outputs": [],
   "source": [
    "def cross_entropy(y_pred, y_true):\n",
    "    y_true = tf.one_hot(y_true, depth=num_classes)\n",
    "    y_pred = tf.clip_by_value(y_pred, 1e-9, 1.)\n",
    "    return tf.reduce_mean(-tf.reduce_sum(y_true * tf.math.log(y_pred), axis=1))\n",
    "\n",
    "def accuracy(y_pred, y_true):\n",
    "    correct_prediction = tf.equal(tf.argmax(y_pred, 1), tf.cast(y_true, tf.int64))\n",
    "    return tf.reduce_mean(tf.cast(correct_prediction, tf.float32))"
   ]
  },
  {
   "cell_type": "code",
   "execution_count": 18,
   "metadata": {
    "id": "MQeT1yatUSNW"
   },
   "outputs": [],
   "source": [
    "neural_net = NN(name=\"mnist\")\n",
    "\n",
    "def train(neural_net, input_x, output_y):\n",
    "    optimizer = tf.optimizers.Adam(learning_rate)\n",
    "    with tf.GradientTape() as g:\n",
    "        pred = neural_net(input_x)\n",
    "        loss = cross_entropy(pred, output_y)\n",
    "    trainable_variables = neural_net.trainable_variables\n",
    "    gradients = g.gradient(loss, trainable_variables)\n",
    "    optimizer.apply_gradients(zip(gradients, trainable_variables))\n",
    "    return loss"
   ]
  },
  {
   "cell_type": "code",
   "execution_count": 19,
   "metadata": {
    "id": "fnyns9lBfpQZ"
   },
   "outputs": [
    {
     "name": "stdout",
     "output_type": "stream",
     "text": [
      "Step: 100, Loss: 18.45665740966797, Accuracy: 0.109375\n",
      "Step: 200, Loss: 19.0233097076416, Accuracy: 0.08203125\n",
      "Step: 300, Loss: 18.942371368408203, Accuracy: 0.0859375\n",
      "Step: 400, Loss: 18.537609100341797, Accuracy: 0.10546875\n",
      "Step: 500, Loss: 18.861408233642578, Accuracy: 0.08984375\n",
      "Step: 600, Loss: 18.699508666992188, Accuracy: 0.09765625\n",
      "Step: 700, Loss: 18.21380615234375, Accuracy: 0.12109375\n",
      "Step: 800, Loss: 18.375707626342773, Accuracy: 0.11328125\n",
      "Step: 900, Loss: 18.942358016967773, Accuracy: 0.0859375\n",
      "Step: 1000, Loss: 18.45665740966797, Accuracy: 0.109375\n",
      "Step: 1100, Loss: 19.589962005615234, Accuracy: 0.0546875\n",
      "Step: 1200, Loss: 17.566204071044922, Accuracy: 0.15234375\n",
      "Step: 1300, Loss: 17.97097396850586, Accuracy: 0.1328125\n",
      "Step: 1400, Loss: 17.485254287719727, Accuracy: 0.15625\n",
      "Step: 1500, Loss: 16.918601989746094, Accuracy: 0.18359375\n",
      "Step: 1600, Loss: 18.378028869628906, Accuracy: 0.1171875\n",
      "Step: 1700, Loss: 17.161453247070312, Accuracy: 0.171875\n",
      "Step: 1800, Loss: 18.537607192993164, Accuracy: 0.10546875\n",
      "Step: 1900, Loss: 18.37570571899414, Accuracy: 0.11328125\n",
      "Step: 2000, Loss: 17.970956802368164, Accuracy: 0.1328125\n",
      "Step: 2100, Loss: 16.270999908447266, Accuracy: 0.21484375\n",
      "Step: 2200, Loss: 16.594802856445312, Accuracy: 0.19921875\n",
      "Step: 2300, Loss: 17.566204071044922, Accuracy: 0.15234375\n",
      "Step: 2400, Loss: 17.485254287719727, Accuracy: 0.15625\n",
      "Step: 2500, Loss: 17.728103637695312, Accuracy: 0.14453125\n",
      "Step: 2600, Loss: 16.756702423095703, Accuracy: 0.19140625\n",
      "Step: 2700, Loss: 17.227333068847656, Accuracy: 0.171875\n",
      "Step: 2800, Loss: 16.43290138244629, Accuracy: 0.20703125\n",
      "Step: 2900, Loss: 17.485254287719727, Accuracy: 0.15625\n",
      "Step: 3000, Loss: 17.40430450439453, Accuracy: 0.16015625\n",
      "Step: 3100, Loss: 16.507326126098633, Accuracy: 0.20703125\n",
      "Step: 3200, Loss: 17.080503463745117, Accuracy: 0.17578125\n",
      "Step: 3300, Loss: 17.25593376159668, Accuracy: 0.16796875\n",
      "Step: 3400, Loss: 17.64715576171875, Accuracy: 0.1484375\n",
      "Step: 3500, Loss: 16.756702423095703, Accuracy: 0.19140625\n",
      "Step: 3600, Loss: 16.999553680419922, Accuracy: 0.1796875\n",
      "Step: 3700, Loss: 16.432945251464844, Accuracy: 0.20703125\n",
      "Step: 3800, Loss: 16.351951599121094, Accuracy: 0.2109375\n",
      "Step: 3900, Loss: 17.566204071044922, Accuracy: 0.15234375\n",
      "Step: 4000, Loss: 17.184661865234375, Accuracy: 0.171875\n",
      "Step: 4100, Loss: 16.756702423095703, Accuracy: 0.19140625\n",
      "Step: 4200, Loss: 16.597349166870117, Accuracy: 0.19921875\n",
      "Step: 4300, Loss: 17.323352813720703, Accuracy: 0.1640625\n",
      "Step: 4400, Loss: 16.20492935180664, Accuracy: 0.21875\n",
      "Step: 4500, Loss: 16.78097915649414, Accuracy: 0.19140625\n",
      "Step: 4600, Loss: 16.59480094909668, Accuracy: 0.19921875\n",
      "Step: 4700, Loss: 17.161453247070312, Accuracy: 0.171875\n",
      "Step: 4800, Loss: 16.02815055847168, Accuracy: 0.2265625\n",
      "Step: 4900, Loss: 16.270999908447266, Accuracy: 0.21484375\n",
      "Step: 5000, Loss: 15.785299301147461, Accuracy: 0.23828125\n",
      "Step: 5100, Loss: 16.8376522064209, Accuracy: 0.1875\n",
      "Step: 5200, Loss: 16.83765411376953, Accuracy: 0.19140625\n",
      "Step: 5300, Loss: 17.080501556396484, Accuracy: 0.17578125\n",
      "Step: 5400, Loss: 16.109100341796875, Accuracy: 0.22265625\n",
      "Step: 5500, Loss: 16.109100341796875, Accuracy: 0.22265625\n",
      "Step: 5600, Loss: 15.70434856414795, Accuracy: 0.2421875\n",
      "Step: 5700, Loss: 15.785299301147461, Accuracy: 0.23828125\n",
      "Step: 5800, Loss: 16.351951599121094, Accuracy: 0.2109375\n",
      "Step: 5900, Loss: 16.02815055847168, Accuracy: 0.2265625\n",
      "Step: 6000, Loss: 16.675752639770508, Accuracy: 0.1953125\n",
      "Step: 6100, Loss: 15.866249084472656, Accuracy: 0.234375\n",
      "Step: 6200, Loss: 16.109100341796875, Accuracy: 0.22265625\n",
      "Step: 6300, Loss: 15.461498260498047, Accuracy: 0.25390625\n",
      "Step: 6400, Loss: 15.056747436523438, Accuracy: 0.2734375\n",
      "Step: 6500, Loss: 15.137697219848633, Accuracy: 0.26953125\n",
      "Step: 6600, Loss: 15.623397827148438, Accuracy: 0.24609375\n",
      "Step: 6700, Loss: 15.056746482849121, Accuracy: 0.2734375\n",
      "Step: 6800, Loss: 15.380547523498535, Accuracy: 0.2578125\n",
      "Step: 6900, Loss: 15.785298347473145, Accuracy: 0.23828125\n",
      "Step: 7000, Loss: 14.813896179199219, Accuracy: 0.28515625\n",
      "Step: 7100, Loss: 15.785299301147461, Accuracy: 0.23828125\n",
      "Step: 7200, Loss: 15.33018970489502, Accuracy: 0.26171875\n",
      "Step: 7300, Loss: 15.380548477172852, Accuracy: 0.2578125\n",
      "Step: 7400, Loss: 16.19005012512207, Accuracy: 0.21875\n",
      "Step: 7500, Loss: 15.218647003173828, Accuracy: 0.265625\n",
      "Step: 7600, Loss: 15.380547523498535, Accuracy: 0.2578125\n",
      "Step: 7700, Loss: 15.218647003173828, Accuracy: 0.265625\n",
      "Step: 7800, Loss: 15.704349517822266, Accuracy: 0.2421875\n",
      "Step: 7900, Loss: 15.70434856414795, Accuracy: 0.2421875\n",
      "Step: 8000, Loss: 15.056747436523438, Accuracy: 0.2734375\n",
      "Step: 8100, Loss: 16.02815055847168, Accuracy: 0.2265625\n",
      "Step: 8200, Loss: 14.975796699523926, Accuracy: 0.27734375\n",
      "Step: 8300, Loss: 15.542448043823242, Accuracy: 0.25\n",
      "Step: 8400, Loss: 16.028148651123047, Accuracy: 0.2265625\n",
      "Step: 8500, Loss: 14.97579574584961, Accuracy: 0.27734375\n",
      "Step: 8600, Loss: 15.542448043823242, Accuracy: 0.25\n",
      "Step: 8700, Loss: 14.97579574584961, Accuracy: 0.27734375\n",
      "Step: 8800, Loss: 16.594802856445312, Accuracy: 0.19921875\n",
      "Step: 8900, Loss: 16.109100341796875, Accuracy: 0.22265625\n",
      "Step: 9000, Loss: 15.947199821472168, Accuracy: 0.23046875\n",
      "Step: 9100, Loss: 15.866249084472656, Accuracy: 0.234375\n",
      "Step: 9200, Loss: 15.461498260498047, Accuracy: 0.25390625\n",
      "Step: 9300, Loss: 15.528373718261719, Accuracy: 0.25\n",
      "Step: 9400, Loss: 14.813896179199219, Accuracy: 0.28515625\n",
      "Step: 9500, Loss: 14.894876480102539, Accuracy: 0.28125\n",
      "Step: 9600, Loss: 14.409144401550293, Accuracy: 0.3046875\n",
      "Step: 9700, Loss: 15.785304069519043, Accuracy: 0.23828125\n",
      "Step: 9800, Loss: 15.623398780822754, Accuracy: 0.24609375\n",
      "Step: 9900, Loss: 15.137697219848633, Accuracy: 0.26953125\n",
      "Step: 10000, Loss: 15.785298347473145, Accuracy: 0.23828125\n"
     ]
    },
    {
     "data": {
      "image/png": "[encoded data removed]",
      "text/plain": [
       "<Figure size 640x480 with 2 Axes>"
      ]
     },
     "metadata": {},
     "output_type": "display_data"
    },
    {
     "name": "stdout",
     "output_type": "stream",
     "text": [
      "Test Accuracy: 0.267300009727478\n"
     ]
    }
   ],
   "source": [
    "loss_history = []  \n",
    "accuracy_history = [] \n",
    "\n",
    "for step, (batch_x, batch_y) in enumerate(train_data.take(training_steps), 1):\n",
    "    loss = train(neural_net, batch_x, batch_y)\n",
    "    if step % display_step == 0:\n",
    "        pred = neural_net(batch_x)\n",
    "        acc = accuracy(pred, batch_y)\n",
    "        loss_history.append(loss)\n",
    "        accuracy_history.append(acc)\n",
    "        print(f\"Step: {step}, Loss: {loss}, Accuracy: {acc}\")\n",
    "\n",
    "plt.subplot(1, 2, 1)\n",
    "plt.plot(loss_history, label='Loss History')\n",
    "plt.title('Loss History')\n",
    "plt.subplot(1, 2, 2)\n",
    "plt.plot(accuracy_history, label='Accuracy History')\n",
    "plt.title('Accuracy History')\n",
    "plt.show()\n",
    "\n",
    "pred = neural_net(x_test)\n",
    "test_accuracy = accuracy(pred, y_test)\n",
    "print(f\"Test Accuracy: {test_accuracy}\")"
   ]
  },
  {
   "cell_type": "code",
   "execution_count": 20,
   "metadata": {},
   "outputs": [
    {
     "name": "stdout",
     "output_type": "stream",
     "text": [
      "              precision    recall  f1-score   support\n",
      "\n",
      "           0       0.00      0.00      0.00       980\n",
      "           1       0.00      0.00      0.00      1135\n",
      "           2       0.30      0.85      0.45      1032\n",
      "           3       0.24      0.86      0.37      1010\n",
      "           4       0.28      0.94      0.43       982\n",
      "           5       0.00      0.00      0.00       892\n",
      "           6       0.00      0.00      0.00       958\n",
      "           7       0.00      0.00      0.00      1028\n",
      "           8       0.00      0.00      0.00       974\n",
      "           9       0.14      0.00      0.00      1009\n",
      "\n",
      "    accuracy                           0.27     10000\n",
      "   macro avg       0.10      0.27      0.12     10000\n",
      "weighted avg       0.10      0.27      0.13     10000\n",
      "\n"
     ]
    },
    {
     "name": "stderr",
     "output_type": "stream",
     "text": [
      "C:\\ProgramData\\anaconda3\\Lib\\site-packages\\sklearn\\metrics\\_classification.py:1344: UndefinedMetricWarning: Precision and F-score are ill-defined and being set to 0.0 in labels with no predicted samples. Use `zero_division` parameter to control this behavior.\n",
      "  _warn_prf(average, modifier, msg_start, len(result))\n",
      "C:\\ProgramData\\anaconda3\\Lib\\site-packages\\sklearn\\metrics\\_classification.py:1344: UndefinedMetricWarning: Precision and F-score are ill-defined and being set to 0.0 in labels with no predicted samples. Use `zero_division` parameter to control this behavior.\n",
      "  _warn_prf(average, modifier, msg_start, len(result))\n",
      "C:\\ProgramData\\anaconda3\\Lib\\site-packages\\sklearn\\metrics\\_classification.py:1344: UndefinedMetricWarning: Precision and F-score are ill-defined and being set to 0.0 in labels with no predicted samples. Use `zero_division` parameter to control this behavior.\n",
      "  _warn_prf(average, modifier, msg_start, len(result))\n"
     ]
    }
   ],
   "source": [
    "from sklearn.metrics import classification_report\n",
    "y_pred = tf.argmax(neural_net(x_test), axis=1).numpy()\n",
    "print(classification_report(y_test, y_pred))"
   ]
  },
  {
   "cell_type": "code",
   "execution_count": null,
   "metadata": {},
   "outputs": [],
   "source": [
    "  "
   ]
  }
 ],
 "metadata": {
  "colab": {
   "provenance": []
  },
  "kernelspec": {
   "display_name": "Python 3 (ipykernel)",
   "language": "python",
   "name": "python3"
  },
  "language_info": {
   "codemirror_mode": {
    "name": "ipython",
    "version": 3
   },
   "file_extension": ".py",
   "mimetype": "text/x-python",
   "name": "python",
   "nbconvert_exporter": "python",
   "pygments_lexer": "ipython3",
   "version": "3.11.7"
  }
 },
 "nbformat": 4,
 "nbformat_minor": 4
}
