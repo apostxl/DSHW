{
 "cells": [
  {
   "cell_type": "code",
   "execution_count": 1,
   "id": "76cd3f1c-a141-48e0-b851-1071148c6b28",
   "metadata": {},
   "outputs": [],
   "source": [
    "import numpy as np\n",
    "from tensorflow.keras.datasets import fashion_mnist\n",
    "from tensorflow.keras.utils import to_categorical\n",
    "from tensorflow.keras.applications import VGG16\n",
    "from tensorflow.keras.models import Sequential\n",
    "from tensorflow.keras.layers import Flatten, Dense\n",
    "from tensorflow.keras.optimizers import Adam\n",
    "from tensorflow.keras.preprocessing.image import img_to_array, array_to_img\n"
   ]
  },
  {
   "cell_type": "code",
   "execution_count": 2,
   "id": "3d9ba08b-f0ca-4a29-9f8d-9a5fd8355739",
   "metadata": {},
   "outputs": [],
   "source": [
    "(train_images, train_labels), (test_images, test_labels) = fashion_mnist.load_data()"
   ]
  },
  {
   "cell_type": "code",
   "execution_count": 3,
   "id": "9186f536-9470-44af-a1c9-80cda920cb9d",
   "metadata": {},
   "outputs": [],
   "source": [
    "train_images = np.expand_dims(train_images, axis=-1)\n",
    "train_images = np.repeat(train_images, 3, axis=-1)\n",
    "train_images_resized = np.array([img_to_array(array_to_img(image).resize((32,32))) for image in train_images])\n",
    "train_images_resized = train_images_resized / 255.0\n",
    "\n",
    "test_images = np.expand_dims(test_images, axis=-1)\n",
    "test_images = np.repeat(test_images, 3, axis=-1)\n",
    "test_images_resized = np.array([img_to_array(array_to_img(image).resize((32,32))) for image in test_images])\n",
    "test_images_resized = test_images_resized / 255.0\n",
    "\n",
    "train_labels = to_categorical(train_labels, num_classes=10)\n",
    "test_labels = to_categorical(test_labels, num_classes=10)"
   ]
  },
  {
   "cell_type": "code",
   "execution_count": 4,
   "id": "92f795e4-a23b-4d2c-8887-1a64d84adeb8",
   "metadata": {},
   "outputs": [],
   "source": [
    "base_model = VGG16(weights='imagenet', include_top=False, input_shape=(32, 32, 3))\n",
    "\n",
    "model = Sequential()\n",
    "model.add(base_model)\n",
    "model.add(Flatten())\n",
    "model.add(Dense(256, activation='relu'))\n",
    "model.add(Dense(10, activation='softmax'))"
   ]
  },
  {
   "cell_type": "code",
   "execution_count": 5,
   "id": "e00c5ae5-c135-4044-a9c2-d90707d7a169",
   "metadata": {},
   "outputs": [],
   "source": [
    "base_model.trainable = False"
   ]
  },
  {
   "cell_type": "code",
   "execution_count": 6,
   "id": "52caa381-5c70-4d17-9663-1114aa2b69c1",
   "metadata": {},
   "outputs": [],
   "source": [
    "model.compile(optimizer=Adam(), loss='categorical_crossentropy', metrics=['accuracy'])"
   ]
  },
  {
   "cell_type": "code",
   "execution_count": 7,
   "id": "9221f5e7-2d4f-466d-8217-f0c52a1a8451",
   "metadata": {},
   "outputs": [
    {
     "name": "stdout",
     "output_type": "stream",
     "text": [
      "Epoch 1/10\n",
      "\u001b[1m1875/1875\u001b[0m \u001b[32m━━━━━━━━━━━━━━━━━━━━\u001b[0m\u001b[37m\u001b[0m \u001b[1m202s\u001b[0m 107ms/step - accuracy: 0.7668 - loss: 0.6657 - val_accuracy: 0.8476 - val_loss: 0.4212\n",
      "Epoch 2/10\n",
      "\u001b[1m1875/1875\u001b[0m \u001b[32m━━━━━━━━━━━━━━━━━━━━\u001b[0m\u001b[37m\u001b[0m \u001b[1m205s\u001b[0m 109ms/step - accuracy: 0.8569 - loss: 0.3986 - val_accuracy: 0.8549 - val_loss: 0.4041\n",
      "Epoch 3/10\n",
      "\u001b[1m1875/1875\u001b[0m \u001b[32m━━━━━━━━━━━━━━━━━━━━\u001b[0m\u001b[37m\u001b[0m \u001b[1m204s\u001b[0m 109ms/step - accuracy: 0.8633 - loss: 0.3704 - val_accuracy: 0.8577 - val_loss: 0.3924\n",
      "Epoch 4/10\n",
      "\u001b[1m1875/1875\u001b[0m \u001b[32m━━━━━━━━━━━━━━━━━━━━\u001b[0m\u001b[37m\u001b[0m \u001b[1m198s\u001b[0m 106ms/step - accuracy: 0.8731 - loss: 0.3426 - val_accuracy: 0.8611 - val_loss: 0.3777\n",
      "Epoch 5/10\n",
      "\u001b[1m1875/1875\u001b[0m \u001b[32m━━━━━━━━━━━━━━━━━━━━\u001b[0m\u001b[37m\u001b[0m \u001b[1m198s\u001b[0m 105ms/step - accuracy: 0.8820 - loss: 0.3187 - val_accuracy: 0.8639 - val_loss: 0.3791\n",
      "Epoch 6/10\n",
      "\u001b[1m1875/1875\u001b[0m \u001b[32m━━━━━━━━━━━━━━━━━━━━\u001b[0m\u001b[37m\u001b[0m \u001b[1m195s\u001b[0m 104ms/step - accuracy: 0.8859 - loss: 0.3051 - val_accuracy: 0.8666 - val_loss: 0.3631\n",
      "Epoch 7/10\n",
      "\u001b[1m1875/1875\u001b[0m \u001b[32m━━━━━━━━━━━━━━━━━━━━\u001b[0m\u001b[37m\u001b[0m \u001b[1m198s\u001b[0m 105ms/step - accuracy: 0.8920 - loss: 0.2876 - val_accuracy: 0.8714 - val_loss: 0.3597\n",
      "Epoch 8/10\n",
      "\u001b[1m1875/1875\u001b[0m \u001b[32m━━━━━━━━━━━━━━━━━━━━\u001b[0m\u001b[37m\u001b[0m \u001b[1m199s\u001b[0m 106ms/step - accuracy: 0.8955 - loss: 0.2800 - val_accuracy: 0.8720 - val_loss: 0.3671\n",
      "Epoch 9/10\n",
      "\u001b[1m1875/1875\u001b[0m \u001b[32m━━━━━━━━━━━━━━━━━━━━\u001b[0m\u001b[37m\u001b[0m \u001b[1m196s\u001b[0m 104ms/step - accuracy: 0.8997 - loss: 0.2687 - val_accuracy: 0.8738 - val_loss: 0.3519\n",
      "Epoch 10/10\n",
      "\u001b[1m1875/1875\u001b[0m \u001b[32m━━━━━━━━━━━━━━━━━━━━\u001b[0m\u001b[37m\u001b[0m \u001b[1m196s\u001b[0m 105ms/step - accuracy: 0.9032 - loss: 0.2560 - val_accuracy: 0.8743 - val_loss: 0.3600\n"
     ]
    }
   ],
   "source": [
    "history = model.fit(train_images_resized, train_labels, epochs=10, batch_size=32, validation_data=(test_images_resized, test_labels))"
   ]
  },
  {
   "cell_type": "code",
   "execution_count": 8,
   "id": "eff6e90a-653b-473b-b7c2-3106847959ac",
   "metadata": {},
   "outputs": [
    {
     "name": "stdout",
     "output_type": "stream",
     "text": [
      "\u001b[1m313/313\u001b[0m \u001b[32m━━━━━━━━━━━━━━━━━━━━\u001b[0m\u001b[37m\u001b[0m \u001b[1m27s\u001b[0m 86ms/step - accuracy: 0.8757 - loss: 0.3521\n",
      "Test Accuracy: 0.8743000030517578\n"
     ]
    }
   ],
   "source": [
    "test_loss, test_acc = model.evaluate(test_images_resized, test_labels)\n",
    "print(\"Test Accuracy:\", test_acc)"
   ]
  },
  {
   "cell_type": "code",
   "execution_count": null,
   "id": "79514583-e8de-425d-864b-83f1a67effb5",
   "metadata": {},
   "outputs": [],
   "source": [
    "'''\n",
    "У першій частині завдання, коли я створював власну згорткову мережу, я міг експериментувати з різними архітектурами та параметрами моделі, щоб максимізувати точність класифікації на даних Fashion MNIST. Я отримав досить високу точність, яка склала приблизно 91.79%.\n",
    "У другій частині завдання, коли я використовував згорткову мережу зі згортковою основою VGG16, я обмежений фіксованою архітектурою цієї моделі. Вона може не бути ідеально підходящою для даних Fashion MNIST, оскільки була навчена на зображеннях ImageNet. Точність, яку я отримав, була нижчою, приблизно 87.43%.\n",
    "Загалом, обидві моделі виявилися досить ефективними для класифікації даних Fashion MNIST, проте модель, яку я створив в першій частині, мала трохи вищу точність. Це показує важливість експериментів з архітектурою та параметрами мережі для досягнення найкращих результатів в конкретній задачі.\n",
    "'''"
   ]
  }
 ],
 "metadata": {
  "kernelspec": {
   "display_name": "Python 3 (ipykernel)",
   "language": "python",
   "name": "python3"
  },
  "language_info": {
   "codemirror_mode": {
    "name": "ipython",
    "version": 3
   },
   "file_extension": ".py",
   "mimetype": "text/x-python",
   "name": "python",
   "nbconvert_exporter": "python",
   "pygments_lexer": "ipython3",
   "version": "3.11.7"
  }
 },
 "nbformat": 4,
 "nbformat_minor": 5
}
