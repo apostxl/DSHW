{
 "cells": [
  {
   "cell_type": "code",
   "execution_count": 1,
   "id": "1e2b4640-ef0a-4d9e-bc9b-1b87137d86d1",
   "metadata": {},
   "outputs": [
    {
     "name": "stdout",
     "output_type": "stream",
     "text": [
      "Defaulting to user installation because normal site-packages is not writeable\n",
      "Collecting scikit-surprise\n",
      "  Downloading scikit-surprise-1.1.3.tar.gz (771 kB)\n",
      "     ---------------------------------------- 0.0/772.0 kB ? eta -:--:--\n",
      "      --------------------------------------- 10.2/772.0 kB ? eta -:--:--\n",
      "      ------------------------------------ 20.5/772.0 kB 162.5 kB/s eta 0:00:05\n",
      "     - ----------------------------------- 30.7/772.0 kB 217.9 kB/s eta 0:00:04\n",
      "     ---- -------------------------------- 92.2/772.0 kB 476.3 kB/s eta 0:00:02\n",
      "     ---------------- --------------------- 337.9/772.0 kB 1.5 MB/s eta 0:00:01\n",
      "     -------------------------------------- 772.0/772.0 kB 3.0 MB/s eta 0:00:00\n",
      "  Preparing metadata (setup.py): started\n",
      "  Preparing metadata (setup.py): finished with status 'done'\n",
      "Requirement already satisfied: joblib>=1.0.0 in c:\\programdata\\anaconda3\\lib\\site-packages (from scikit-surprise) (1.2.0)\n",
      "Requirement already satisfied: numpy>=1.17.3 in c:\\programdata\\anaconda3\\lib\\site-packages (from scikit-surprise) (1.26.4)\n",
      "Requirement already satisfied: scipy>=1.3.2 in c:\\programdata\\anaconda3\\lib\\site-packages (from scikit-surprise) (1.11.4)\n",
      "Building wheels for collected packages: scikit-surprise\n",
      "  Building wheel for scikit-surprise (setup.py): started\n",
      "  Building wheel for scikit-surprise (setup.py): finished with status 'done'\n",
      "  Created wheel for scikit-surprise: filename=scikit_surprise-1.1.3-cp311-cp311-win_amd64.whl size=1081170 sha256=8bf3b27dba339720aa16056fed21dbdf859d2973cc0355ceaa24bb4bda4dd2ca\n",
      "  Stored in directory: c:\\users\\alexander\\appdata\\local\\pip\\cache\\wheels\\f4\\2b\\26\\e2a5eae55d3b7688995e66abe7f40473aac6c95ddd8ee174a8\n",
      "Successfully built scikit-surprise\n",
      "Installing collected packages: scikit-surprise\n",
      "Successfully installed scikit-surprise-1.1.3\n",
      "Note: you may need to restart the kernel to use updated packages.\n"
     ]
    },
    {
     "name": "stderr",
     "output_type": "stream",
     "text": [
      "  WARNING: The script surprise.exe is installed in 'C:\\Users\\Alexander\\AppData\\Roaming\\Python\\Python311\\Scripts' which is not on PATH.\n",
      "  Consider adding this directory to PATH or, if you prefer to suppress this warning, use --no-warn-script-location.\n"
     ]
    }
   ],
   "source": [
    "pip install scikit-surprise\n"
   ]
  },
  {
   "cell_type": "code",
   "execution_count": 2,
   "id": "c26ad150-54ab-47af-9fa0-d0ba3c96a774",
   "metadata": {},
   "outputs": [
    {
     "name": "stdout",
     "output_type": "stream",
     "text": [
      "Evaluating RMSE, MAE of algorithm SVD on 5 split(s).\n",
      "\n",
      "                  Fold 1  Fold 2  Fold 3  Fold 4  Fold 5  Mean    Std     \n",
      "RMSE (testset)    0.8716  0.8714  0.8716  0.8884  0.8645  0.8735  0.0079  \n",
      "MAE (testset)     0.6704  0.6672  0.6711  0.6820  0.6651  0.6712  0.0058  \n",
      "Fit time          0.78    0.79    0.79    0.79    0.79    0.79    0.00    \n",
      "Test time         0.09    0.09    0.13    0.13    0.08    0.10    0.02    \n",
      "Evaluating RMSE, MAE of algorithm SVDpp on 5 split(s).\n",
      "\n",
      "                  Fold 1  Fold 2  Fold 3  Fold 4  Fold 5  Mean    Std     \n",
      "RMSE (testset)    0.8684  0.8622  0.8661  0.8520  0.8562  0.8610  0.0061  \n",
      "MAE (testset)     0.6614  0.6611  0.6625  0.6552  0.6585  0.6597  0.0026  \n",
      "Fit time          49.30   48.03   48.69   48.05   52.14   49.24   1.52    \n",
      "Test time         6.23    6.63    6.23    6.51    10.73   7.26    1.74    \n",
      "Evaluating RMSE, MAE of algorithm NMF on 5 split(s).\n",
      "\n",
      "                  Fold 1  Fold 2  Fold 3  Fold 4  Fold 5  Mean    Std     \n",
      "RMSE (testset)    0.9201  0.9176  0.9154  0.9187  0.9304  0.9204  0.0052  \n",
      "MAE (testset)     0.7037  0.7026  0.7014  0.7060  0.7110  0.7049  0.0034  \n",
      "Fit time          1.80    1.90    1.64    1.66    1.95    1.79    0.12    \n",
      "Test time         0.07    0.08    0.15    0.09    0.09    0.10    0.03    \n"
     ]
    },
    {
     "data": {
      "text/plain": [
       "{'test_rmse': array([0.92008597, 0.9175911 , 0.91541352, 0.91870348, 0.93039025]),\n",
       " 'test_mae': array([0.70365519, 0.70256908, 0.70138279, 0.706008  , 0.71102154]),\n",
       " 'fit_time': (1.8020834922790527,\n",
       "  1.8981268405914307,\n",
       "  1.6394271850585938,\n",
       "  1.6622202396392822,\n",
       "  1.946444034576416),\n",
       " 'test_time': (0.07486724853515625,\n",
       "  0.07949066162109375,\n",
       "  0.1467139720916748,\n",
       "  0.0850214958190918,\n",
       "  0.09309005737304688)}"
      ]
     },
     "execution_count": 2,
     "metadata": {},
     "output_type": "execute_result"
    }
   ],
   "source": [
    "import pandas as pd\n",
    "from surprise import Dataset, Reader, SVD, NMF, SVDpp\n",
    "from surprise.model_selection import cross_validate\n",
    "\n",
    "# Завантаження даних\n",
    "ratings = pd.read_csv('C:/Users/Alexander/Desktop/ml-latest-small/ratings.csv')\n",
    "# Завантаження за допомогою surprise\n",
    "# data = Dataset.load_builtin('ml-100k')\n",
    "\n",
    "# Визначення рейтингової шкали\n",
    "reader = Reader(rating_scale=(0.5, 5))\n",
    "\n",
    "# Завантаження даних до формату Dataset\n",
    "data = Dataset.load_from_df(ratings[['userId', 'movieId', 'rating']], reader)\n",
    "\n",
    "# Побудова моделі SVD\n",
    "algo_svd = SVD()\n",
    "cross_validate(algo_svd, data, measures=['RMSE', 'MAE'], cv=5, verbose=True)\n",
    "\n",
    "# Побудова моделі SVD++\n",
    "algo_svdpp = SVDpp()\n",
    "cross_validate(algo_svdpp, data, measures=['RMSE', 'MAE'], cv=5, verbose=True)\n",
    "\n",
    "# Побудова моделі NMF\n",
    "algo_nmf = NMF()\n",
    "cross_validate(algo_nmf, data, measures=['RMSE', 'MAE'], cv=5, verbose=True)\n"
   ]
  },
  {
   "cell_type": "code",
   "execution_count": null,
   "id": "7a7111c1-4861-465a-88ee-a2697d19524b",
   "metadata": {},
   "outputs": [],
   "source": []
  }
 ],
 "metadata": {
  "kernelspec": {
   "display_name": "Python 3 (ipykernel)",
   "language": "python",
   "name": "python3"
  },
  "language_info": {
   "codemirror_mode": {
    "name": "ipython",
    "version": 3
   },
   "file_extension": ".py",
   "mimetype": "text/x-python",
   "name": "python",
   "nbconvert_exporter": "python",
   "pygments_lexer": "ipython3",
   "version": "3.11.7"
  }
 },
 "nbformat": 4,
 "nbformat_minor": 5
}
