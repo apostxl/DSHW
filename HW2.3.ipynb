{
 "cells": [
  {
   "cell_type": "code",
   "execution_count": 1,
   "id": "fc47daed-b16a-4da2-b332-2790f8ab0d58",
   "metadata": {},
   "outputs": [
    {
     "name": "stdout",
     "output_type": "stream",
     "text": [
      "                                                Name  \\\n",
      "0                      10-Day Green Smoothie Cleanse   \n",
      "1                                  11/22/63: A Novel   \n",
      "2            12 Rules for Life: An Antidote to Chaos   \n",
      "3                             1984 (Signet Classics)   \n",
      "4  5,000 Awesome Facts (About Everything!) (Natio...   \n",
      "\n",
      "                     Author  User Rating  Reviews  Price  Year        Genre  \n",
      "0                  JJ Smith          4.7    17350      8  2016  Non Fiction  \n",
      "1              Stephen King          4.6     2052     22  2011      Fiction  \n",
      "2        Jordan B. Peterson          4.7    18979     15  2018  Non Fiction  \n",
      "3             George Orwell          4.7    21424      6  2017      Fiction  \n",
      "4  National Geographic Kids          4.8     7665     12  2019  Non Fiction  \n",
      "Розмір датасету: (550, 7)\n"
     ]
    }
   ],
   "source": [
    "import pandas as pd\n",
    "\n",
    "\n",
    "df = pd.read_csv(\"C:/Users/Alexander/Desktop/bestsellerss.csv\")\n",
    "\n",
    "\n",
    "print(df.head())\n",
    "\n",
    "\n",
    "print(f\"Розмір датасету: {df.shape}\")\n"
   ]
  },
  {
   "cell_type": "code",
   "execution_count": 2,
   "id": "c2c32e56-262e-4212-acf2-d0f708022e65",
   "metadata": {},
   "outputs": [
    {
     "data": {
      "text/plain": [
       "'\\nВ датасеті зберігається інформація про 550 книг.\\n'"
      ]
     },
     "execution_count": 2,
     "metadata": {},
     "output_type": "execute_result"
    }
   ],
   "source": [
    "'''\n",
    "В датасеті зберігається інформація про 550 книг.\n",
    "'''"
   ]
  },
  {
   "cell_type": "code",
   "execution_count": 3,
   "id": "9419ea32-9666-41b2-8069-ac05a614fc1f",
   "metadata": {},
   "outputs": [
    {
     "name": "stdout",
     "output_type": "stream",
     "text": [
      "Index(['name', 'author', 'user_rating', 'reviews', 'price', 'year', 'genre'], dtype='object')\n"
     ]
    }
   ],
   "source": [
    "df.columns = ['name', 'author', 'user_rating', 'reviews', 'price', 'year', 'genre']\n",
    "print(df.columns)"
   ]
  },
  {
   "cell_type": "code",
   "execution_count": 4,
   "id": "07e9f211-d8ae-46c6-93c7-f2505e401f27",
   "metadata": {},
   "outputs": [
    {
     "name": "stdout",
     "output_type": "stream",
     "text": [
      "name           0\n",
      "author         0\n",
      "user_rating    0\n",
      "reviews        0\n",
      "price          0\n",
      "year           0\n",
      "genre          0\n",
      "dtype: int64\n"
     ]
    }
   ],
   "source": [
    "print(df.isna().sum())"
   ]
  },
  {
   "cell_type": "code",
   "execution_count": 5,
   "id": "adfe236b-69f9-4c81-823d-6e01093b4758",
   "metadata": {},
   "outputs": [
    {
     "data": {
      "text/plain": [
       "'\\nПропусків немає\\n'"
      ]
     },
     "execution_count": 5,
     "metadata": {},
     "output_type": "execute_result"
    }
   ],
   "source": [
    "'''\n",
    "Пропусків немає\n",
    "'''"
   ]
  },
  {
   "cell_type": "code",
   "execution_count": 6,
   "id": "a38f5af9-44d8-4978-9a02-d1320abe0892",
   "metadata": {},
   "outputs": [
    {
     "name": "stdout",
     "output_type": "stream",
     "text": [
      "['Non Fiction' 'Fiction']\n"
     ]
    }
   ],
   "source": [
    "print(df['genre'].unique())"
   ]
  },
  {
   "cell_type": "code",
   "execution_count": 7,
   "id": "64ba34fc-252d-43f8-a3db-fc9ed8a41926",
   "metadata": {},
   "outputs": [
    {
     "data": {
      "text/plain": [
       "\"\\nУнікальні жанри: 'Non Fiction' 'Fiction'\\n\""
      ]
     },
     "execution_count": 7,
     "metadata": {},
     "output_type": "execute_result"
    }
   ],
   "source": [
    "'''\n",
    "Унікальні жанри: 'Non Fiction' 'Fiction'\n",
    "'''"
   ]
  },
  {
   "cell_type": "code",
   "execution_count": 8,
   "id": "8f6b4d86-9dbd-4f97-bbc9-e723a77577cb",
   "metadata": {},
   "outputs": [
    {
     "data": {
      "text/plain": [
       "<Axes: title={'center': 'Розподіл цін'}, ylabel='Frequency'>"
      ]
     },
     "execution_count": 8,
     "metadata": {},
     "output_type": "execute_result"
    },
    {
     "data": {
      "image/png": "[encoded data removed]",
      "text/plain": [
       "<Figure size 640x480 with 1 Axes>"
      ]
     },
     "metadata": {},
     "output_type": "display_data"
    }
   ],
   "source": [
    "df['price'].plot(kind='hist', bins=20, title='Розподіл цін')\n"
   ]
  },
  {
   "cell_type": "code",
   "execution_count": 10,
   "id": "90a809eb-e352-43b9-a7ab-01844fe9b4a3",
   "metadata": {},
   "outputs": [
    {
     "name": "stdout",
     "output_type": "stream",
     "text": [
      "Максимальна ціна: 105\n",
      "Мінімальна ціна: 0\n",
      "Середня ціна: 13.1\n",
      "Медіанна ціна: 11.0\n"
     ]
    }
   ],
   "source": [
    "max_price = df['price'].max()\n",
    "min_price = df['price'].min()\n",
    "mean_price = df['price'].mean()\n",
    "median_price = df['price'].median()\n",
    "print(f\"Максимальна ціна: {max_price}\")\n",
    "print(f\"Мінімальна ціна: {min_price}\")\n",
    "print(f\"Середня ціна: {mean_price}\")\n",
    "print(f\"Медіанна ціна: {median_price}\")"
   ]
  },
  {
   "cell_type": "code",
   "execution_count": 11,
   "id": "cbf19e6f-9f28-4f9d-b5bc-a3a8bebd3bef",
   "metadata": {},
   "outputs": [
    {
     "name": "stdout",
     "output_type": "stream",
     "text": [
      "Найвищий рейтинг: 4.9\n",
      "Кількість книг з найвищим рейтингом: 52\n"
     ]
    }
   ],
   "source": [
    "# 1. Книга з найвищим рейтингом\n",
    "max_rating = df['user_rating'].max()\n",
    "books_with_max_rating = df[df['user_rating'] == max_rating]\n",
    "num_books_with_max_rating = books_with_max_rating.shape[0]\n",
    "print(f\"Найвищий рейтинг: {max_rating}\")\n",
    "print(f\"Кількість книг з найвищим рейтингом: {num_books_with_max_rating}\")"
   ]
  },
  {
   "cell_type": "code",
   "execution_count": 12,
   "id": "4b56a7bd-bd4e-4421-8e2e-dfaadc4b5e1f",
   "metadata": {},
   "outputs": [
    {
     "name": "stdout",
     "output_type": "stream",
     "text": [
      "Книга з найбільшою кількістю відгуків: Where the Crawdads Sing\n"
     ]
    }
   ],
   "source": [
    "# 2. Книга з найбільшою кількістю відгуків\n",
    "max_reviews_book = df[df['reviews'] == df['reviews'].max()]['name'].iloc[0]\n",
    "print(f\"Книга з найбільшою кількістю відгуків: {max_reviews_book}\")"
   ]
  },
  {
   "cell_type": "code",
   "execution_count": 13,
   "id": "31fc38c5-63db-4583-8892-325f00e3db55",
   "metadata": {},
   "outputs": [
    {
     "name": "stdout",
     "output_type": "stream",
     "text": [
      "Найдорожча книга у 2015 році: Publication Manual of the American Psychological Association, 6th Edition\n"
     ]
    }
   ],
   "source": [
    "# 3. Найдорожча книга серед тих, що потрапили до Топ-50 у 2015 році\n",
    "df_2015 = df[df['year'] == 2015]\n",
    "most_expensive_2015 = df_2015[df_2015['price'] == df_2015['price'].max()]['name'].iloc[0]\n",
    "print(f\"Найдорожча книга у 2015 році: {most_expensive_2015}\")"
   ]
  },
  {
   "cell_type": "code",
   "execution_count": 14,
   "id": "44482f88-19ae-46cd-bcc7-c3be9da256b8",
   "metadata": {},
   "outputs": [
    {
     "name": "stdout",
     "output_type": "stream",
     "text": [
      "Кількість книг жанру Fiction у Топ-50 у 2010 році: 20\n"
     ]
    }
   ],
   "source": [
    "# 4. Кількість книг жанру Fiction, що потрапили до Топ-50 у 2010 році\n",
    "num_fiction_2010 = df[(df['genre'] == 'Fiction') & (df['year'] == 2010)].shape[0]\n",
    "print(f\"Кількість книг жанру Fiction у Топ-50 у 2010 році: {num_fiction_2010}\")"
   ]
  },
  {
   "cell_type": "code",
   "execution_count": 15,
   "id": "8a123dac-a31d-4a43-be07-1f4bf3589545",
   "metadata": {},
   "outputs": [
    {
     "name": "stdout",
     "output_type": "stream",
     "text": [
      "Кількість книг з рейтингом 4.9 у 2010 та 2011 роках: 1\n"
     ]
    }
   ],
   "source": [
    "# 5. Кількість книг з рейтингом 4.9, що потрапили до рейтингу у 2010 та 2011 роках\n",
    "num_rating_4_9 = df[(df['user_rating'] == 4.9) & ((df['year'] == 2010) | (df['year'] == 2011))].shape[0]\n",
    "print(f\"Кількість книг з рейтингом 4.9 у 2010 та 2011 роках: {num_rating_4_9}\")"
   ]
  },
  {
   "cell_type": "code",
   "execution_count": 16,
   "id": "c77790bc-358d-46a2-ae94-d9f959259c46",
   "metadata": {},
   "outputs": [
    {
     "name": "stdout",
     "output_type": "stream",
     "text": [
      "Книга, яка остання у відсортованому списку: Old School (Diary of a Wimpy Kid #10)\n"
     ]
    }
   ],
   "source": [
    "# 6. Відсортовані книги\n",
    "sorted_books = df_2015[df_2015['price'] < 8].sort_values(by='price')\n",
    "last_book = sorted_books.tail(1)['name'].iloc[0]\n",
    "print(f\"Книга, яка остання у відсортованому списку: {last_book}\")"
   ]
  },
  {
   "cell_type": "code",
   "execution_count": 17,
   "id": "9cc0c458-a863-4772-87f2-24f83182b35e",
   "metadata": {},
   "outputs": [
    {
     "name": "stdout",
     "output_type": "stream",
     "text": [
      "             max  min\n",
      "genre                \n",
      "Fiction       82    0\n",
      "Non Fiction  105    0\n"
     ]
    }
   ],
   "source": [
    "price_stats = df.groupby('genre')['price'].agg(['max', 'min'])\n",
    "print(price_stats)\n"
   ]
  },
  {
   "cell_type": "code",
   "execution_count": 18,
   "id": "3bc462e3-890e-40b4-a252-e5189ea352b4",
   "metadata": {},
   "outputs": [
    {
     "name": "stdout",
     "output_type": "stream",
     "text": [
      "Розмірність таблиці: (248, 1)\n",
      "Автор з найбільшою кількістю книг: Jeff Kinney\n",
      "Кількість книг цього автора: 12\n"
     ]
    }
   ],
   "source": [
    "author_books_count = df.groupby('author').agg({'name': 'count'}).rename(columns={'name': 'books_count'})\n",
    "print(f\"Розмірність таблиці: {author_books_count.shape}\")\n",
    "print(f\"Автор з найбільшою кількістю книг: {author_books_count.idxmax()['books_count']}\")\n",
    "print(f\"Кількість книг цього автора: {author_books_count.max()['books_count']}\")"
   ]
  },
  {
   "cell_type": "code",
   "execution_count": 19,
   "id": "f5c90a79-752c-4677-88a2-1115a93fed9d",
   "metadata": {},
   "outputs": [
    {
     "name": "stdout",
     "output_type": "stream",
     "text": [
      "Автор з мінімальним середнім рейтингом: Donna Tartt\n",
      "Середній рейтинг цього автора: 3.9\n"
     ]
    }
   ],
   "source": [
    "author_avg_rating = df.groupby('author').agg({'user_rating': 'mean'}).rename(columns={'user_rating': 'avg_rating'})\n",
    "print(f\"Автор з мінімальним середнім рейтингом: {author_avg_rating.idxmin()['avg_rating']}\")\n",
    "print(f\"Середній рейтинг цього автора: {author_avg_rating.min()['avg_rating']}\")"
   ]
  },
  {
   "cell_type": "code",
   "execution_count": 20,
   "id": "b985cbbd-8d36-499f-a10b-ccfa04b575a2",
   "metadata": {},
   "outputs": [],
   "source": [
    "merged_df = pd.concat([author_books_count, author_avg_rating], axis=1)\n"
   ]
  },
  {
   "cell_type": "code",
   "execution_count": 21,
   "id": "64485415-077a-4a0c-bad3-3a16ae097673",
   "metadata": {},
   "outputs": [
    {
     "name": "stdout",
     "output_type": "stream",
     "text": [
      "Автор, який перший у списку: Muriel Barbery\n"
     ]
    }
   ],
   "source": [
    "sorted_df = merged_df.sort_values(by=['books_count', 'avg_rating'], ascending=[True, True])\n",
    "print(f\"Автор, який перший у списку: {sorted_df.index[0]}\")"
   ]
  },
  {
   "cell_type": "code",
   "execution_count": null,
   "id": "c95f09ea-a089-4d3c-afb2-9bc7ac3b7858",
   "metadata": {},
   "outputs": [],
   "source": []
  }
 ],
 "metadata": {
  "kernelspec": {
   "display_name": "Python 3 (ipykernel)",
   "language": "python",
   "name": "python3"
  },
  "language_info": {
   "codemirror_mode": {
    "name": "ipython",
    "version": 3
   },
   "file_extension": ".py",
   "mimetype": "text/x-python",
   "name": "python",
   "nbconvert_exporter": "python",
   "pygments_lexer": "ipython3",
   "version": "3.11.7"
  }
 },
 "nbformat": 4,
 "nbformat_minor": 5
}
