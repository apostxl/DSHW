{
 "cells": [
  {
   "cell_type": "code",
   "execution_count": 5,
   "id": "6e878704-2c9c-4199-b516-0e95a1543959",
   "metadata": {},
   "outputs": [
    {
     "name": "stdout",
     "output_type": "stream",
     "text": [
      "Defaulting to user installation because normal site-packages is not writeable\n",
      "Requirement already satisfied: numpy in c:\\programdata\\anaconda3\\lib\\site-packages (1.26.4)\n"
     ]
    }
   ],
   "source": [
    "!pip install numpy\n",
    "import numpy as np"
   ]
  },
  {
   "cell_type": "code",
   "execution_count": 6,
   "id": "c8485613-5d33-49de-8fe1-201f1972b1be",
   "metadata": {},
   "outputs": [
    {
     "name": "stdout",
     "output_type": "stream",
     "text": [
      "Одновимірний масив: [ 1  2  3  4  5  6  7  8  9 10]\n"
     ]
    }
   ],
   "source": [
    "vector_1d = np.array([1, 2, 3, 4, 5, 6, 7, 8, 9, 10])\n",
    "print(\"Одновимірний масив:\", vector_1d)"
   ]
  },
  {
   "cell_type": "code",
   "execution_count": 7,
   "id": "b4ecb917-3187-4b06-aa35-c1a9cb5ea746",
   "metadata": {},
   "outputs": [
    {
     "name": "stdout",
     "output_type": "stream",
     "text": [
      "\n",
      "Двовимірний масив з нулями:\n",
      " [[0. 0. 0.]\n",
      " [0. 0. 0.]\n",
      " [0. 0. 0.]]\n"
     ]
    }
   ],
   "source": [
    "matrix_2d = np.zeros((3, 3))\n",
    "print(\"\\nДвовимірний масив з нулями:\\n\", matrix_2d)"
   ]
  },
  {
   "cell_type": "code",
   "execution_count": 8,
   "id": "3e87e01f-14bf-4328-bd47-8e5b6bcb10d3",
   "metadata": {},
   "outputs": [
    {
     "name": "stdout",
     "output_type": "stream",
     "text": [
      "\n",
      "Масив розміром 5x5 з випадковими цілими числами:\n",
      " [[8 9 6 6 6]\n",
      " [1 9 6 4 9]\n",
      " [5 9 3 5 4]\n",
      " [1 6 4 2 4]\n",
      " [2 4 7 2 2]]\n"
     ]
    }
   ],
   "source": [
    "random_matrix_int = np.random.randint(1, 11, (5, 5))\n",
    "print(\"\\nМасив розміром 5x5 з випадковими цілими числами:\\n\", random_matrix_int)"
   ]
  },
  {
   "cell_type": "code",
   "execution_count": 9,
   "id": "e8c9eb60-2b2e-454c-bfb7-a6c8e45b0972",
   "metadata": {},
   "outputs": [
    {
     "name": "stdout",
     "output_type": "stream",
     "text": [
      "\n",
      "Масив розміром 4x4 з випадковими дійсними числами:\n",
      " [[0.22241512 0.05134197 0.58936567 0.13570403]\n",
      " [0.93263078 0.69371223 0.84882393 0.1748114 ]\n",
      " [0.39662051 0.76493231 0.81481838 0.81827856]\n",
      " [0.30949081 0.57691713 0.08530037 0.69372765]]\n"
     ]
    }
   ],
   "source": [
    "random_matrix_float = np.random.rand(4, 4)\n",
    "print(\"\\nМасив розміром 4x4 з випадковими дійсними числами:\\n\", random_matrix_float)"
   ]
  },
  {
   "cell_type": "code",
   "execution_count": 10,
   "id": "8a29447d-d471-43c8-bdd9-c5b127106207",
   "metadata": {},
   "outputs": [
    {
     "name": "stdout",
     "output_type": "stream",
     "text": [
      "\n",
      "Вектор A: [ 6  1  8 10  1]\n",
      "Вектор B: [5 6 6 5 7]\n"
     ]
    }
   ],
   "source": [
    "vector_a = np.random.randint(1, 11, 5)\n",
    "vector_b = np.random.randint(1, 11, 5)\n",
    "print(\"\\nВектор A:\", vector_a)\n",
    "print(\"Вектор B:\", vector_b)"
   ]
  },
  {
   "cell_type": "code",
   "execution_count": 11,
   "id": "c03c3697-d97f-4886-a3b7-f6a5632962c5",
   "metadata": {},
   "outputs": [
    {
     "name": "stdout",
     "output_type": "stream",
     "text": [
      "\n",
      "Додавання: [11  7 14 15  8]\n",
      "Віднімання: [ 1 -5  2  5 -6]\n",
      "Множення: [30  6 48 50  7]\n"
     ]
    }
   ],
   "source": [
    "print(\"\\nДодавання:\", vector_a + vector_b)\n",
    "print(\"Віднімання:\", vector_a - vector_b)\n",
    "print(\"Множення:\", vector_a * vector_b)"
   ]
  },
  {
   "cell_type": "code",
   "execution_count": 12,
   "id": "f8c58834-f2a8-4de8-83c1-20ef0056b528",
   "metadata": {},
   "outputs": [
    {
     "name": "stdout",
     "output_type": "stream",
     "text": [
      "\n",
      "Вектор 1: [10  7  1  2  5  8  3]\n",
      "Вектор 2: [1 3 3 8 8 5 9]\n"
     ]
    }
   ],
   "source": [
    "vector_1 = np.random.randint(1, 11, 7)\n",
    "vector_2 = np.random.randint(1, 11, 7)\n",
    "print(\"\\nВектор 1:\", vector_1)\n",
    "print(\"Вектор 2:\", vector_2)"
   ]
  },
  {
   "cell_type": "code",
   "execution_count": 13,
   "id": "2efc822b-7343-4696-bc94-10eea49e5242",
   "metadata": {},
   "outputs": [
    {
     "name": "stdout",
     "output_type": "stream",
     "text": [
      "\n",
      "Скалярний добуток: 157\n"
     ]
    }
   ],
   "source": [
    "scalar_product = np.dot(vector_1, vector_2)\n",
    "print(\"\\nСкалярний добуток:\", scalar_product)\n"
   ]
  },
  {
   "cell_type": "code",
   "execution_count": 14,
   "id": "39c3ac26-97ac-47dc-9155-469d8f60e088",
   "metadata": {},
   "outputs": [
    {
     "name": "stdout",
     "output_type": "stream",
     "text": [
      "\n",
      "Матриця 2x2:\n",
      " [[8 9]\n",
      " [3 2]]\n",
      "Матриця 2x3:\n",
      " [[8 4 3]\n",
      " [4 5 8]]\n"
     ]
    }
   ],
   "source": [
    "matrix_2x2 = np.random.randint(1, 11, (2, 2))\n",
    "matrix_2x3 = np.random.randint(1, 11, (2, 3))\n",
    "print(\"\\nМатриця 2x2:\\n\", matrix_2x2)\n",
    "print(\"Матриця 2x3:\\n\", matrix_2x3)"
   ]
  },
  {
   "cell_type": "code",
   "execution_count": 15,
   "id": "d94b64e0-e74c-4c65-883e-68482f23c1ea",
   "metadata": {},
   "outputs": [
    {
     "name": "stdout",
     "output_type": "stream",
     "text": [
      "\n",
      "Результат перемноження:\n",
      " [[100  77  96]\n",
      " [ 32  22  25]]\n"
     ]
    }
   ],
   "source": [
    "result_matrix = np.dot(matrix_2x2, matrix_2x3)\n",
    "print(\"\\nРезультат перемноження:\\n\", result_matrix)"
   ]
  },
  {
   "cell_type": "code",
   "execution_count": 16,
   "id": "27c76f83-c582-4d93-b754-356f6c32af4c",
   "metadata": {},
   "outputs": [
    {
     "name": "stdout",
     "output_type": "stream",
     "text": [
      "\n",
      "Обернена матриця:\n",
      " [[-0.26896552  0.48965517 -0.51724138]\n",
      " [ 0.31724138 -0.37241379  0.37931034]\n",
      " [ 0.02758621 -0.07586207  0.20689655]]\n"
     ]
    }
   ],
   "source": [
    "matrix_3x3 = np.random.randint(1, 11, (3, 3))\n",
    "inverse_matrix = np.linalg.inv(matrix_3x3)\n",
    "print(\"\\nОбернена матриця:\\n\", inverse_matrix)"
   ]
  },
  {
   "cell_type": "code",
   "execution_count": 17,
   "id": "ef46404c-5a58-4830-9c99-d4fdd6d4f137",
   "metadata": {},
   "outputs": [
    {
     "name": "stdout",
     "output_type": "stream",
     "text": [
      "\n",
      "Транспонована матриця 4x4:\n",
      " [[0.14906295 0.64582273 0.58664777 0.94652119]\n",
      " [0.18934447 0.91705557 0.11141357 0.87430833]\n",
      " [0.48565251 0.96033771 0.75061609 0.14972919]\n",
      " [0.42130968 0.86124322 0.12935692 0.4345739 ]]\n"
     ]
    }
   ],
   "source": [
    "matrix_4x4 = np.random.rand(4, 4)\n",
    "transposed_matrix = matrix_4x4.T\n",
    "print(\"\\nТранспонована матриця 4x4:\\n\", transposed_matrix)\n"
   ]
  },
  {
   "cell_type": "code",
   "execution_count": 18,
   "id": "528f3c05-66a6-4ef9-846f-9c968e09c276",
   "metadata": {},
   "outputs": [
    {
     "name": "stdout",
     "output_type": "stream",
     "text": [
      "\n",
      "Результат перемноження матриці на вектор:\n",
      " [174 120 105]\n"
     ]
    }
   ],
   "source": [
    "matrix_3x4 = np.random.randint(1, 11, (3, 4))\n",
    "vector_4 = np.random.randint(1, 11, 4)\n",
    "result_vector = np.dot(matrix_3x4, vector_4)\n",
    "print(\"\\nРезультат перемноження матриці на вектор:\\n\", result_vector)"
   ]
  },
  {
   "cell_type": "code",
   "execution_count": 19,
   "id": "669eb960-06bd-4013-8998-313ccd26f4d8",
   "metadata": {},
   "outputs": [
    {
     "name": "stdout",
     "output_type": "stream",
     "text": [
      "\n",
      "Результат перемноження матриці на вектор:\n",
      " [0.48802801 0.57787934]\n"
     ]
    }
   ],
   "source": [
    "matrix_2x3 = np.random.rand(2, 3)\n",
    "vector_3 = np.random.rand(3)\n",
    "result_vector_2 = np.dot(matrix_2x3, vector_3)\n",
    "print(\"\\nРезультат перемноження матриці на вектор:\\n\", result_vector_2)"
   ]
  },
  {
   "cell_type": "code",
   "execution_count": 20,
   "id": "ee1f1f8d-688e-45cd-9e86-2a5d53886de9",
   "metadata": {},
   "outputs": [
    {
     "name": "stdout",
     "output_type": "stream",
     "text": [
      "\n",
      "Поелементне множення:\n",
      " [[32 56]\n",
      " [60 36]]\n"
     ]
    }
   ],
   "source": [
    "matrix_a = np.random.randint(1, 11, (2, 2))\n",
    "matrix_b = np.random.randint(1, 11, (2, 2))\n",
    "elementwise_product = matrix_a * matrix_b\n",
    "print(\"\\nПоелементне множення:\\n\", elementwise_product)"
   ]
  },
  {
   "cell_type": "code",
   "execution_count": 21,
   "id": "e04f767b-fa79-476e-82ec-97798815f84d",
   "metadata": {},
   "outputs": [
    {
     "name": "stdout",
     "output_type": "stream",
     "text": [
      "\n",
      "Добуток матриць:\n",
      " [[102 106]\n",
      " [ 84  84]]\n"
     ]
    }
   ],
   "source": [
    "matrix_product = np.dot(matrix_a, matrix_b)\n",
    "print(\"\\nДобуток матриць:\\n\", matrix_product)"
   ]
  },
  {
   "cell_type": "code",
   "execution_count": 22,
   "id": "9a14a0cb-1786-4661-b502-379cd16f6c15",
   "metadata": {},
   "outputs": [
    {
     "name": "stdout",
     "output_type": "stream",
     "text": [
      "\n",
      "Сума елементів матриці 5x5: 1310\n"
     ]
    }
   ],
   "source": [
    "matrix_5x5 = np.random.randint(1, 101, (5, 5))\n",
    "sum_elements = np.sum(matrix_5x5)\n",
    "print(\"\\nСума елементів матриці 5x5:\", sum_elements)"
   ]
  },
  {
   "cell_type": "code",
   "execution_count": 23,
   "id": "47ebb1e7-9bc0-43d9-b720-76f672623a83",
   "metadata": {},
   "outputs": [
    {
     "name": "stdout",
     "output_type": "stream",
     "text": [
      "\n",
      "Різниця матриць:\n",
      " [[ 6  4  1  2]\n",
      " [-1  3  4 -4]\n",
      " [ 7 -2  5 -1]\n",
      " [ 0 -2  1 -2]]\n"
     ]
    }
   ],
   "source": [
    "matrix_4x4_a = np.random.randint(1, 11, (4, 4))\n",
    "matrix_4x4_b = np.random.randint(1, 11, (4, 4))\n",
    "difference_matrix = matrix_4x4_a - matrix_4x4_b\n",
    "print(\"\\nРізниця матриць:\\n\", difference_matrix)\n"
   ]
  },
  {
   "cell_type": "code",
   "execution_count": 24,
   "id": "561c108d-ff37-4760-8b5d-f0b33a480fc4",
   "metadata": {},
   "outputs": [
    {
     "name": "stdout",
     "output_type": "stream",
     "text": [
      "\n",
      "Вектор-стовпчик з сумами елементів кожного рядка:\n",
      " [[21]\n",
      " [19]\n",
      " [29]]\n"
     ]
    }
   ],
   "source": [
    "matrix_3x3 = np.random.randint(1, 11, (3, 3))\n",
    "row_sums = np.sum(matrix_3x3, axis=1)\n",
    "column_vector = row_sums.reshape(-1, 1)\n",
    "print(\"\\nВектор-стовпчик з сумами елементів кожного рядка:\\n\", column_vector)"
   ]
  },
  {
   "cell_type": "code",
   "execution_count": 25,
   "id": "2a829304-4f92-4c6e-a5e5-fc262ee0bf64",
   "metadata": {},
   "outputs": [
    {
     "name": "stdout",
     "output_type": "stream",
     "text": [
      "\n",
      "Матриця з квадратами чисел:\n",
      " [[ 16   1  36  49]\n",
      " [ 16  25 100  64]\n",
      " [ 49  81  81  25]]\n"
     ]
    }
   ],
   "source": [
    "matrix_3x4 = np.random.randint(1, 11, (3, 4))\n",
    "squared_matrix = matrix_3x4 ** 2\n",
    "print(\"\\nМатриця з квадратами чисел:\\n\", squared_matrix)"
   ]
  },
  {
   "cell_type": "code",
   "execution_count": 26,
   "id": "71808fa2-f680-4c85-9f38-7a5cbdf70c78",
   "metadata": {},
   "outputs": [
    {
     "name": "stdout",
     "output_type": "stream",
     "text": [
      "\n",
      "Вектор з квадратними коренями чисел:\n",
      " [5.47722558 6.32455532 6.55743852 5.38516481]\n"
     ]
    }
   ],
   "source": [
    "vector_4 = np.random.randint(1, 51, 4)\n",
    "sqrt_vector = np.sqrt(vector_4)\n",
    "print(\"\\nВектор з квадратними коренями чисел:\\n\", sqrt_vector)"
   ]
  },
  {
   "cell_type": "code",
   "execution_count": null,
   "id": "fb31f91f-938d-4dd6-9a2c-1820a086b875",
   "metadata": {},
   "outputs": [],
   "source": []
  }
 ],
 "metadata": {
  "kernelspec": {
   "display_name": "Python 3 (ipykernel)",
   "language": "python",
   "name": "python3"
  },
  "language_info": {
   "codemirror_mode": {
    "name": "ipython",
    "version": 3
   },
   "file_extension": ".py",
   "mimetype": "text/x-python",
   "name": "python",
   "nbconvert_exporter": "python",
   "pygments_lexer": "ipython3",
   "version": "3.11.7"
  }
 },
 "nbformat": 4,
 "nbformat_minor": 5
}
