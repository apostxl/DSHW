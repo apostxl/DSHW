{
 "cells": [
  {
   "cell_type": "code",
   "execution_count": 1,
   "id": "76ac8cfc-459f-4a1a-a83b-2ac88f0ed13d",
   "metadata": {},
   "outputs": [
    {
     "name": "stdout",
     "output_type": "stream",
     "text": [
      "   N                    Посада Мова програмування Спеціалізація  \\\n",
      "0  1        Junior QA engineer                NaN     Manual QA   \n",
      "1  2        Junior QA engineer                NaN     Manual QA   \n",
      "2  3         Software Engineer            C#/.NET           NaN   \n",
      "3  4         Software Engineer         JavaScript           NaN   \n",
      "4  5  Senior Software Engineer         JavaScript           NaN   \n",
      "\n",
      "  Загальний досвід роботи Досвід роботи на поточному місці  \\\n",
      "0                     0.5                              0.5   \n",
      "1         менше 3 місяців                  менше 3 місяців   \n",
      "2                       4                                1   \n",
      "3                       5                                4   \n",
      "4       10 і більше років                              0.5   \n",
      "\n",
      "   Зарплата на місяць  Зміна зарплати за 12 місяців   Місто   Розмір компанії  \\\n",
      "0                 400                             0  Харків        до 10 осіб   \n",
      "1                 430                           130  Харків  більше 1000 осіб   \n",
      "2                2500                           800    Київ      до 1000 осіб   \n",
      "3                2000                           400   Одеса       до 200 осіб   \n",
      "4                4500                           500    Інше        до 10 осіб   \n",
      "\n",
      "   ... Ще студент                    Рівень англійської  \\\n",
      "0  ...       True    Pre-intermediate (нище середнього)   \n",
      "1  ...       True  Upper-Intermediate (вище середнього)   \n",
      "2  ...      False               Intermediate (середній)   \n",
      "3  ...      False    Pre-intermediate (нище середнього)   \n",
      "4  ...      False               Intermediate (середній)   \n",
      "\n",
      "                   Предметна область      Дата заповнення  \\\n",
      "0                      iOS,eCommerce  12/06/2017 12:38:08   \n",
      "1                       Веб-розробка  12/06/2017 12:42:51   \n",
      "2  Веб-розробка,Корпоративні системи  12/06/2017 13:02:47   \n",
      "3  Desktop Applications,Веб-розробка  12/06/2017 13:03:01   \n",
      "4  Desktop Applications,Веб-розробка  12/06/2017 13:03:47   \n",
      "\n",
      "                                          User.Agent   exp current_job_exp  \\\n",
      "0  Mozilla/5.0 (Windows NT 10.0; Win64; x64) Appl...   0.5             0.5   \n",
      "1  Mozilla/5.0 (iPad; CPU OS 10_2_1 like Mac OS X...   0.0             0.0   \n",
      "2  Mozilla/5.0 (Windows NT 10.0; Win64; x64) Appl...   4.0             1.0   \n",
      "3  Mozilla/5.0 (Windows NT 6.1; Win64; x64) Apple...   5.0             4.0   \n",
      "4  Mozilla/5.0 (iPhone; CPU iPhone OS 10_3_2 like...  10.0             0.5   \n",
      "\n",
      "  salary Валюта  cls  \n",
      "0    400    NaN   QA  \n",
      "1    430    NaN   QA  \n",
      "2   2500    NaN  DEV  \n",
      "3   2000    NaN  DEV  \n",
      "4   4500    NaN  DEV  \n",
      "\n",
      "[5 rows x 25 columns]\n"
     ]
    }
   ],
   "source": [
    "import pandas as pd\n",
    "\n",
    "# 1. Прочитайте файл 2017_jun_final.csv за допомогою методу read_csv\n",
    "df = pd.read_csv(\"C:/Users/Alexander/Desktop/2017_june.csv\")\n",
    "print(df.head())"
   ]
  },
  {
   "cell_type": "code",
   "execution_count": 2,
   "id": "043278d9-db1b-4b1e-bff7-1fa88344a868",
   "metadata": {},
   "outputs": [
    {
     "name": "stdout",
     "output_type": "stream",
     "text": [
      "Розмір таблиці: (8704, 25)\n"
     ]
    }
   ],
   "source": [
    "print(f\"Розмір таблиці: {df.shape}\")"
   ]
  },
  {
   "cell_type": "code",
   "execution_count": 3,
   "id": "159283e2-73cf-4641-824e-fec51ac14f60",
   "metadata": {},
   "outputs": [
    {
     "name": "stdout",
     "output_type": "stream",
     "text": [
      "N                                     int64\n",
      "Посада                               object\n",
      "Мова програмування                   object\n",
      "Спеціалізація                        object\n",
      "Загальний досвід роботи              object\n",
      "Досвід роботи на поточному місці     object\n",
      "Зарплата на місяць                    int64\n",
      "Зміна зарплати за 12 місяців          int64\n",
      "Місто                                object\n",
      "Розмір компанії                      object\n",
      "Тип компанії                         object\n",
      "Стать                                object\n",
      "Вік                                   int64\n",
      "Освіта                               object\n",
      "Університет                          object\n",
      "Ще студент                             bool\n",
      "Рівень англійської                   object\n",
      "Предметна область                    object\n",
      "Дата заповнення                      object\n",
      "User.Agent                           object\n",
      "exp                                 float64\n",
      "current_job_exp                     float64\n",
      "salary                                int64\n",
      "Валюта                               object\n",
      "cls                                  object\n",
      "dtype: object\n"
     ]
    }
   ],
   "source": [
    "print(df.dtypes)"
   ]
  },
  {
   "cell_type": "code",
   "execution_count": 4,
   "id": "fcad61ac-3365-482a-af7c-002d781e17eb",
   "metadata": {},
   "outputs": [
    {
     "name": "stdout",
     "output_type": "stream",
     "text": [
      "N                                   0.000000\n",
      "Посада                              0.000000\n",
      "Мова програмування                  0.442325\n",
      "Спеціалізація                       0.829389\n",
      "Загальний досвід роботи             0.000000\n",
      "Досвід роботи на поточному місці    0.000000\n",
      "Зарплата на місяць                  0.000000\n",
      "Зміна зарплати за 12 місяців        0.000000\n",
      "Місто                               0.000000\n",
      "Розмір компанії                     0.000000\n",
      "Тип компанії                        0.000000\n",
      "Стать                               0.000000\n",
      "Вік                                 0.000000\n",
      "Освіта                              0.000000\n",
      "Університет                         0.041131\n",
      "Ще студент                          0.000000\n",
      "Рівень англійської                  0.000000\n",
      "Предметна область                   0.025620\n",
      "Дата заповнення                     0.000000\n",
      "User.Agent                          0.000000\n",
      "exp                                 0.000000\n",
      "current_job_exp                     0.000000\n",
      "salary                              0.000000\n",
      "Валюта                              0.998851\n",
      "cls                                 0.180836\n",
      "dtype: float64\n"
     ]
    }
   ],
   "source": [
    "print(df.isnull().sum() / len(df))"
   ]
  },
  {
   "cell_type": "code",
   "execution_count": 5,
   "id": "32a6625e-69d5-4585-83c9-5fa8807f555a",
   "metadata": {},
   "outputs": [],
   "source": [
    "df = df.dropna(subset=['Мова програмування'], how='any')"
   ]
  },
  {
   "cell_type": "code",
   "execution_count": 6,
   "id": "91fe6834-092d-4d83-8b2b-20133c4ce830",
   "metadata": {},
   "outputs": [
    {
     "name": "stdout",
     "output_type": "stream",
     "text": [
      "N                                   0.000000\n",
      "Посада                              0.000000\n",
      "Мова програмування                  0.000000\n",
      "Спеціалізація                       0.999794\n",
      "Загальний досвід роботи             0.000000\n",
      "Досвід роботи на поточному місці    0.000000\n",
      "Зарплата на місяць                  0.000000\n",
      "Зміна зарплати за 12 місяців        0.000000\n",
      "Місто                               0.000000\n",
      "Розмір компанії                     0.000000\n",
      "Тип компанії                        0.000000\n",
      "Стать                               0.000000\n",
      "Вік                                 0.000000\n",
      "Освіта                              0.000000\n",
      "Університет                         0.047590\n",
      "Ще студент                          0.000000\n",
      "Рівень англійської                  0.000000\n",
      "Предметна область                   0.006180\n",
      "Дата заповнення                     0.000000\n",
      "User.Agent                          0.000000\n",
      "exp                                 0.000000\n",
      "current_job_exp                     0.000000\n",
      "salary                              0.000000\n",
      "Валюта                              0.998352\n",
      "cls                                 0.001648\n",
      "dtype: float64\n"
     ]
    }
   ],
   "source": [
    "print(df.isnull().sum() / len(df))"
   ]
  },
  {
   "cell_type": "code",
   "execution_count": 7,
   "id": "e6151cdc-998b-49b2-84fb-489112f7ce3a",
   "metadata": {},
   "outputs": [],
   "source": [
    "df = df.dropna()"
   ]
  },
  {
   "cell_type": "code",
   "execution_count": 8,
   "id": "d2957078-4144-4d0f-ad2c-d3d7e35e7826",
   "metadata": {},
   "outputs": [
    {
     "name": "stdout",
     "output_type": "stream",
     "text": [
      "Новий розмір таблиці: (0, 25)\n"
     ]
    }
   ],
   "source": [
    "print(f\"Новий розмір таблиці: {df.shape}\")"
   ]
  },
  {
   "cell_type": "code",
   "execution_count": 9,
   "id": "3b2860fe-69c6-4f34-a919-739dad5acf7a",
   "metadata": {},
   "outputs": [],
   "source": [
    "python_data = df[df['Мова програмування'] == 'Python']"
   ]
  },
  {
   "cell_type": "code",
   "execution_count": 10,
   "id": "d90ef96c-6194-42b6-ac4e-be58f7b0d651",
   "metadata": {},
   "outputs": [
    {
     "name": "stdout",
     "output_type": "stream",
     "text": [
      "Розмір таблиці python_data: (0, 25)\n"
     ]
    }
   ],
   "source": [
    "print(f\"Розмір таблиці python_data: {python_data.shape}\")"
   ]
  },
  {
   "cell_type": "code",
   "execution_count": 11,
   "id": "f573085a-70af-4991-b74e-ed7002e42402",
   "metadata": {},
   "outputs": [],
   "source": [
    "grouped = df.groupby('Посада')"
   ]
  },
  {
   "cell_type": "code",
   "execution_count": 14,
   "id": "3b9709a6-cf97-4704-810c-1ed88bf2f3dc",
   "metadata": {},
   "outputs": [],
   "source": [
    "aggregated_data = grouped.agg({'Зарплата на місяць': ['min', 'max']})\n"
   ]
  },
  {
   "cell_type": "code",
   "execution_count": 15,
   "id": "94779a0a-0ffa-4c8d-9ea4-cd1d1229c62b",
   "metadata": {},
   "outputs": [],
   "source": [
    "def fill_avg_salary(row):\n",
    "    return row['Зарплата на місяць'].mean()\n"
   ]
  },
  {
   "cell_type": "code",
   "execution_count": 16,
   "id": "6f431657-f032-40b4-b4dc-d6168283f919",
   "metadata": {},
   "outputs": [],
   "source": [
    "df['avg'] = df.apply(fill_avg_salary, axis=1)\n"
   ]
  },
  {
   "cell_type": "code",
   "execution_count": 17,
   "id": "28e2e9a6-084b-4119-9f7f-8ac400987d5c",
   "metadata": {},
   "outputs": [
    {
     "name": "stdout",
     "output_type": "stream",
     "text": [
      "count    0.0\n",
      "mean     NaN\n",
      "std      NaN\n",
      "min      NaN\n",
      "25%      NaN\n",
      "50%      NaN\n",
      "75%      NaN\n",
      "max      NaN\n",
      "Name: avg, dtype: float64\n"
     ]
    }
   ],
   "source": [
    "print(df['avg'].describe())"
   ]
  },
  {
   "cell_type": "code",
   "execution_count": 18,
   "id": "7ef3b1b2-76d0-4f02-9267-74e40dfa7ca9",
   "metadata": {},
   "outputs": [],
   "source": [
    "df.to_csv('processed_data.csv', index=False)"
   ]
  },
  {
   "cell_type": "code",
   "execution_count": null,
   "id": "8e722082-05c5-407c-9a48-6fddf49e74be",
   "metadata": {},
   "outputs": [],
   "source": []
  }
 ],
 "metadata": {
  "kernelspec": {
   "display_name": "Python 3 (ipykernel)",
   "language": "python",
   "name": "python3"
  },
  "language_info": {
   "codemirror_mode": {
    "name": "ipython",
    "version": 3
   },
   "file_extension": ".py",
   "mimetype": "text/x-python",
   "name": "python",
   "nbconvert_exporter": "python",
   "pygments_lexer": "ipython3",
   "version": "3.11.7"
  }
 },
 "nbformat": 4,
 "nbformat_minor": 5
}
