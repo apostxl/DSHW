{
 "cells": [
  {
   "cell_type": "code",
   "execution_count": 1,
   "id": "904024b7-08c9-426f-aea5-9e94026812d7",
   "metadata": {},
   "outputs": [],
   "source": [
    "import pandas as pd\n",
    "import numpy as np\n",
    "import matplotlib.pyplot as plt"
   ]
  },
  {
   "cell_type": "code",
   "execution_count": 2,
   "id": "6641cf7b-d820-435a-8c86-d8867b631de3",
   "metadata": {},
   "outputs": [
    {
     "name": "stdout",
     "output_type": "stream",
     "text": [
      "               Регіон  1950  1960  1970  1990  2000  2012  2014  2019\n",
      "0                Крим  23.0  20.6  16.0  13.0   7.3  12.6     —     —\n",
      "1           Вінницька  22.4  19.2  14.2  12.4   8.4  11.2  10.9   7.6\n",
      "2           Волинська  24.7  25.0  17.9  15.3  11.2  14.8  14.1  10.1\n",
      "3    Дніпропетровська  20.4  20.4  15.1  12.3   7.1  11.2  11.1   7.1\n",
      "4            Донецька  27.1  21.4  14.0  10.9   6.1   9.8   8.2     —\n",
      "5         Житомирська  26.1  22.3  15.9  12.9   8.9  12.2  12.0   7.9\n",
      "6        Закарпатська  31.4  27.3  20.7  16.8  11.5  15.1  14.6  10.4\n",
      "7          Запорізька  21.9  19.7  15.0  12.4   7.1  10.6  10.6   6.8\n",
      "8   Івано-Франківська  24.3  24.8  18.2  15.5  10.3  12.4  12.2   8.8\n",
      "9            Київська  20.4  18.9  15.6  12.3   7.3  12.2  12.1   8.0\n",
      "10     Кіровоградська  21.6  17.1  14.5  12.6   7.9  11.0  10.8   6.8\n",
      "11          Луганська  26.2  23.5  14.4  11.6   6.2   9.6   5.1     —\n",
      "12          Львівська  23.4  24.0  17.1  14.0   9.1  11.9  11.9   8.7\n",
      "13       Миколаївська  21.1  19.4  15.5  13.7   8.0  11.5  11.2   7.1\n",
      "14            Одеська  24.1  19.2  14.8  12.6   8.0  12.7  12.3   8.8\n",
      "15         Полтавська  18.6  16.3  13.1  11.8   7.0   9.9  10.0   6.5\n",
      "16         Рівненська  26.9  26.7  19.3  15.8  11.8  15.9  14.8  10.7\n",
      "17            Сумська  21.6  18.4  13.2  11.5   7.0   9.7   9.2   6.0\n",
      "18      Тернопільська  21.3  21.6  15.7  14.2   9.2  11.3  10.9   7.6\n",
      "19         Харківська  19.7  17.3  14.0  11.4   6.8   9.9  10.1   6.8\n",
      "20         Херсонська  20.8  21.4  16.6  14.3   8.5  11.7  11.5   8.1\n",
      "21        Хмельницька  23.4  19.8  14.8  12.9   8.5  11.3  11.2   7.9\n",
      "22          Черкаська  20.5  17.9  14.4  12.3   7.5  10.0   9.8   6.4\n",
      "23        Чернівецька  24.7  21.8  17.0  14.8  10.1  12.8  12.9   9.2\n",
      "24       Чернігівська  22.0  18.3  12.7  10.8   6.9   9.4   9.0   6.1\n",
      "25               Київ   NaN  17.4  15.9  12.0   7.3  12.0  12.1  11.0\n",
      "26        Севастополь   NaN   NaN   NaN  12.5   7.0  12.0     —     —\n",
      "27            Україна  22.8  20.5  15.2  12.6   7.8  11.4  11.1   8.1\n"
     ]
    }
   ],
   "source": [
    "match='Коефіцієнт народжуваності в регіонах України'\n",
    "table = pd.read_html('https://uk.wikipedia.org/wiki/%D0%9D%D0%B0%D1%81%D0%B5%D0%BB%D0%B5%D0%BD%D0%BD%D1%8F_%D0%A3%D0%BA%D1%80%D0%B0%D1%97%D0%BD%D0%B8',thousands=\"\", decimal=\",\", match=match)\n",
    "df = table[0]\n",
    "print(df)"
   ]
  },
  {
   "cell_type": "code",
   "execution_count": 3,
   "id": "8626b51c-57c5-45b4-848f-610109abdea3",
   "metadata": {},
   "outputs": [
    {
     "name": "stdout",
     "output_type": "stream",
     "text": [
      "             Регіон  1950  1960  1970  1990  2000  2012  2014  2019\n",
      "0              Крим  23.0  20.6  16.0  13.0   7.3  12.6     —     —\n",
      "1         Вінницька  22.4  19.2  14.2  12.4   8.4  11.2  10.9   7.6\n",
      "2         Волинська  24.7  25.0  17.9  15.3  11.2  14.8  14.1  10.1\n",
      "3  Дніпропетровська  20.4  20.4  15.1  12.3   7.1  11.2  11.1   7.1\n",
      "4          Донецька  27.1  21.4  14.0  10.9   6.1   9.8   8.2     —\n"
     ]
    }
   ],
   "source": [
    "print(df.head())"
   ]
  },
  {
   "cell_type": "code",
   "execution_count": 4,
   "id": "eb82af57-2bb1-42ef-8bcc-fd374a741366",
   "metadata": {},
   "outputs": [
    {
     "name": "stdout",
     "output_type": "stream",
     "text": [
      "(28, 9)\n"
     ]
    }
   ],
   "source": [
    "print(df.shape)"
   ]
  },
  {
   "cell_type": "code",
   "execution_count": 5,
   "id": "13a9ac43-167b-4059-888c-8bfed096d444",
   "metadata": {},
   "outputs": [
    {
     "name": "stdout",
     "output_type": "stream",
     "text": [
      "               Регіон  1950  1960  1970  1990  2000  2012  2014  2019\n",
      "0                Крим  23.0  20.6  16.0  13.0   7.3  12.6   NaN   NaN\n",
      "1           Вінницька  22.4  19.2  14.2  12.4   8.4  11.2  10.9   7.6\n",
      "2           Волинська  24.7  25.0  17.9  15.3  11.2  14.8  14.1  10.1\n",
      "3    Дніпропетровська  20.4  20.4  15.1  12.3   7.1  11.2  11.1   7.1\n",
      "4            Донецька  27.1  21.4  14.0  10.9   6.1   9.8   8.2   NaN\n",
      "5         Житомирська  26.1  22.3  15.9  12.9   8.9  12.2  12.0   7.9\n",
      "6        Закарпатська  31.4  27.3  20.7  16.8  11.5  15.1  14.6  10.4\n",
      "7          Запорізька  21.9  19.7  15.0  12.4   7.1  10.6  10.6   6.8\n",
      "8   Івано-Франківська  24.3  24.8  18.2  15.5  10.3  12.4  12.2   8.8\n",
      "9            Київська  20.4  18.9  15.6  12.3   7.3  12.2  12.1   8.0\n",
      "10     Кіровоградська  21.6  17.1  14.5  12.6   7.9  11.0  10.8   6.8\n",
      "11          Луганська  26.2  23.5  14.4  11.6   6.2   9.6   5.1   NaN\n",
      "12          Львівська  23.4  24.0  17.1  14.0   9.1  11.9  11.9   8.7\n",
      "13       Миколаївська  21.1  19.4  15.5  13.7   8.0  11.5  11.2   7.1\n",
      "14            Одеська  24.1  19.2  14.8  12.6   8.0  12.7  12.3   8.8\n",
      "15         Полтавська  18.6  16.3  13.1  11.8   7.0   9.9  10.0   6.5\n",
      "16         Рівненська  26.9  26.7  19.3  15.8  11.8  15.9  14.8  10.7\n",
      "17            Сумська  21.6  18.4  13.2  11.5   7.0   9.7   9.2   6.0\n",
      "18      Тернопільська  21.3  21.6  15.7  14.2   9.2  11.3  10.9   7.6\n",
      "19         Харківська  19.7  17.3  14.0  11.4   6.8   9.9  10.1   6.8\n",
      "20         Херсонська  20.8  21.4  16.6  14.3   8.5  11.7  11.5   8.1\n",
      "21        Хмельницька  23.4  19.8  14.8  12.9   8.5  11.3  11.2   7.9\n",
      "22          Черкаська  20.5  17.9  14.4  12.3   7.5  10.0   9.8   6.4\n",
      "23        Чернівецька  24.7  21.8  17.0  14.8  10.1  12.8  12.9   9.2\n",
      "24       Чернігівська  22.0  18.3  12.7  10.8   6.9   9.4   9.0   6.1\n",
      "25               Київ   NaN  17.4  15.9  12.0   7.3  12.0  12.1  11.0\n",
      "26        Севастополь   NaN   NaN   NaN  12.5   7.0  12.0   NaN   NaN\n",
      "27            Україна  22.8  20.5  15.2  12.6   7.8  11.4  11.1   8.1\n"
     ]
    }
   ],
   "source": [
    "df = df.replace(\"—\", np.nan)\n",
    "print(df)"
   ]
  },
  {
   "cell_type": "code",
   "execution_count": 6,
   "id": "d4d0d91d-f542-452c-abe1-414f2006cca5",
   "metadata": {},
   "outputs": [
    {
     "name": "stdout",
     "output_type": "stream",
     "text": [
      "Регіон     object\n",
      "1950      float64\n",
      "1960      float64\n",
      "1970      float64\n",
      "1990      float64\n",
      "2000      float64\n",
      "2012      float64\n",
      "2014       object\n",
      "2019       object\n",
      "dtype: object\n"
     ]
    }
   ],
   "source": [
    "print(df.dtypes)"
   ]
  },
  {
   "cell_type": "code",
   "execution_count": 8,
   "id": "728b8835-0695-4770-b8cc-ba550f9f14e5",
   "metadata": {},
   "outputs": [
    {
     "name": "stdout",
     "output_type": "stream",
     "text": [
      "    Регіон  1950  1960  1970  1990  2000  2012  2014  2019\n",
      "0      NaN  23.0  20.6  16.0  13.0   7.3  12.6   NaN   NaN\n",
      "1      NaN  22.4  19.2  14.2  12.4   8.4  11.2  10.9   7.6\n",
      "2      NaN  24.7  25.0  17.9  15.3  11.2  14.8  14.1  10.1\n",
      "3      NaN  20.4  20.4  15.1  12.3   7.1  11.2  11.1   7.1\n",
      "4      NaN  27.1  21.4  14.0  10.9   6.1   9.8   8.2   NaN\n",
      "5      NaN  26.1  22.3  15.9  12.9   8.9  12.2  12.0   7.9\n",
      "6      NaN  31.4  27.3  20.7  16.8  11.5  15.1  14.6  10.4\n",
      "7      NaN  21.9  19.7  15.0  12.4   7.1  10.6  10.6   6.8\n",
      "8      NaN  24.3  24.8  18.2  15.5  10.3  12.4  12.2   8.8\n",
      "9      NaN  20.4  18.9  15.6  12.3   7.3  12.2  12.1   8.0\n",
      "10     NaN  21.6  17.1  14.5  12.6   7.9  11.0  10.8   6.8\n",
      "11     NaN  26.2  23.5  14.4  11.6   6.2   9.6   5.1   NaN\n",
      "12     NaN  23.4  24.0  17.1  14.0   9.1  11.9  11.9   8.7\n",
      "13     NaN  21.1  19.4  15.5  13.7   8.0  11.5  11.2   7.1\n",
      "14     NaN  24.1  19.2  14.8  12.6   8.0  12.7  12.3   8.8\n",
      "15     NaN  18.6  16.3  13.1  11.8   7.0   9.9  10.0   6.5\n",
      "16     NaN  26.9  26.7  19.3  15.8  11.8  15.9  14.8  10.7\n",
      "17     NaN  21.6  18.4  13.2  11.5   7.0   9.7   9.2   6.0\n",
      "18     NaN  21.3  21.6  15.7  14.2   9.2  11.3  10.9   7.6\n",
      "19     NaN  19.7  17.3  14.0  11.4   6.8   9.9  10.1   6.8\n",
      "20     NaN  20.8  21.4  16.6  14.3   8.5  11.7  11.5   8.1\n",
      "21     NaN  23.4  19.8  14.8  12.9   8.5  11.3  11.2   7.9\n",
      "22     NaN  20.5  17.9  14.4  12.3   7.5  10.0   9.8   6.4\n",
      "23     NaN  24.7  21.8  17.0  14.8  10.1  12.8  12.9   9.2\n",
      "24     NaN  22.0  18.3  12.7  10.8   6.9   9.4   9.0   6.1\n",
      "25     NaN   NaN  17.4  15.9  12.0   7.3  12.0  12.1  11.0\n",
      "26     NaN   NaN   NaN   NaN  12.5   7.0  12.0   NaN   NaN\n",
      "27     NaN  22.8  20.5  15.2  12.6   7.8  11.4  11.1   8.1\n"
     ]
    }
   ],
   "source": [
    "for col in df.columns:\n",
    "    df[col] = pd.to_numeric(df[col], errors='coerce')\n",
    "print(df)"
   ]
  },
  {
   "cell_type": "code",
   "execution_count": 9,
   "id": "83bd51fd-a6a2-4065-9c8a-15d81646a77c",
   "metadata": {},
   "outputs": [
    {
     "name": "stdout",
     "output_type": "stream",
     "text": [
      "Регіон    1.000000\n",
      "1950      0.071429\n",
      "1960      0.035714\n",
      "1970      0.035714\n",
      "1990      0.000000\n",
      "2000      0.000000\n",
      "2012      0.000000\n",
      "2014      0.071429\n",
      "2019      0.142857\n",
      "dtype: float64\n"
     ]
    }
   ],
   "source": [
    "print(df.isnull().sum() / len(df))"
   ]
  },
  {
   "cell_type": "code",
   "execution_count": 11,
   "id": "f2cedc5d-0e76-4bcd-876a-954c020754a8",
   "metadata": {},
   "outputs": [
    {
     "name": "stdout",
     "output_type": "stream",
     "text": [
      "    Регіон  1950  1960  1970  1990  2000  2012  2014  2019\n",
      "0      NaN  23.0  20.6  16.0  13.0   7.3  12.6   NaN   NaN\n",
      "1      NaN  22.4  19.2  14.2  12.4   8.4  11.2  10.9   7.6\n",
      "2      NaN  24.7  25.0  17.9  15.3  11.2  14.8  14.1  10.1\n",
      "3      NaN  20.4  20.4  15.1  12.3   7.1  11.2  11.1   7.1\n",
      "4      NaN  27.1  21.4  14.0  10.9   6.1   9.8   8.2   NaN\n",
      "5      NaN  26.1  22.3  15.9  12.9   8.9  12.2  12.0   7.9\n",
      "6      NaN  31.4  27.3  20.7  16.8  11.5  15.1  14.6  10.4\n",
      "7      NaN  21.9  19.7  15.0  12.4   7.1  10.6  10.6   6.8\n",
      "8      NaN  24.3  24.8  18.2  15.5  10.3  12.4  12.2   8.8\n",
      "9      NaN  20.4  18.9  15.6  12.3   7.3  12.2  12.1   8.0\n",
      "10     NaN  21.6  17.1  14.5  12.6   7.9  11.0  10.8   6.8\n",
      "11     NaN  26.2  23.5  14.4  11.6   6.2   9.6   5.1   NaN\n",
      "12     NaN  23.4  24.0  17.1  14.0   9.1  11.9  11.9   8.7\n",
      "13     NaN  21.1  19.4  15.5  13.7   8.0  11.5  11.2   7.1\n",
      "14     NaN  24.1  19.2  14.8  12.6   8.0  12.7  12.3   8.8\n",
      "15     NaN  18.6  16.3  13.1  11.8   7.0   9.9  10.0   6.5\n",
      "16     NaN  26.9  26.7  19.3  15.8  11.8  15.9  14.8  10.7\n",
      "17     NaN  21.6  18.4  13.2  11.5   7.0   9.7   9.2   6.0\n",
      "18     NaN  21.3  21.6  15.7  14.2   9.2  11.3  10.9   7.6\n",
      "19     NaN  19.7  17.3  14.0  11.4   6.8   9.9  10.1   6.8\n",
      "20     NaN  20.8  21.4  16.6  14.3   8.5  11.7  11.5   8.1\n",
      "21     NaN  23.4  19.8  14.8  12.9   8.5  11.3  11.2   7.9\n",
      "22     NaN  20.5  17.9  14.4  12.3   7.5  10.0   9.8   6.4\n",
      "23     NaN  24.7  21.8  17.0  14.8  10.1  12.8  12.9   9.2\n",
      "24     NaN  22.0  18.3  12.7  10.8   6.9   9.4   9.0   6.1\n",
      "25     NaN   NaN  17.4  15.9  12.0   7.3  12.0  12.1  11.0\n"
     ]
    }
   ],
   "source": [
    "df = df.drop(df.tail(1).index)\n",
    "print(df)"
   ]
  },
  {
   "cell_type": "code",
   "execution_count": 12,
   "id": "02cbf624-4f26-4900-89ec-640a8e96e812",
   "metadata": {},
   "outputs": [
    {
     "name": "stdout",
     "output_type": "stream",
     "text": [
      "    Регіон    1950  1960  1970  1990  2000  2012    2014       2019\n",
      "0      NaN  23.000  20.6  16.0  13.0   7.3  12.6  11.144   8.017391\n",
      "1      NaN  22.400  19.2  14.2  12.4   8.4  11.2  10.900   7.600000\n",
      "2      NaN  24.700  25.0  17.9  15.3  11.2  14.8  14.100  10.100000\n",
      "3      NaN  20.400  20.4  15.1  12.3   7.1  11.2  11.100   7.100000\n",
      "4      NaN  27.100  21.4  14.0  10.9   6.1   9.8   8.200   8.017391\n",
      "5      NaN  26.100  22.3  15.9  12.9   8.9  12.2  12.000   7.900000\n",
      "6      NaN  31.400  27.3  20.7  16.8  11.5  15.1  14.600  10.400000\n",
      "7      NaN  21.900  19.7  15.0  12.4   7.1  10.6  10.600   6.800000\n",
      "8      NaN  24.300  24.8  18.2  15.5  10.3  12.4  12.200   8.800000\n",
      "9      NaN  20.400  18.9  15.6  12.3   7.3  12.2  12.100   8.000000\n",
      "10     NaN  21.600  17.1  14.5  12.6   7.9  11.0  10.800   6.800000\n",
      "11     NaN  26.200  23.5  14.4  11.6   6.2   9.6   5.100   8.017391\n",
      "12     NaN  23.400  24.0  17.1  14.0   9.1  11.9  11.900   8.700000\n",
      "13     NaN  21.100  19.4  15.5  13.7   8.0  11.5  11.200   7.100000\n",
      "14     NaN  24.100  19.2  14.8  12.6   8.0  12.7  12.300   8.800000\n",
      "15     NaN  18.600  16.3  13.1  11.8   7.0   9.9  10.000   6.500000\n",
      "16     NaN  26.900  26.7  19.3  15.8  11.8  15.9  14.800  10.700000\n",
      "17     NaN  21.600  18.4  13.2  11.5   7.0   9.7   9.200   6.000000\n",
      "18     NaN  21.300  21.6  15.7  14.2   9.2  11.3  10.900   7.600000\n",
      "19     NaN  19.700  17.3  14.0  11.4   6.8   9.9  10.100   6.800000\n",
      "20     NaN  20.800  21.4  16.6  14.3   8.5  11.7  11.500   8.100000\n",
      "21     NaN  23.400  19.8  14.8  12.9   8.5  11.3  11.200   7.900000\n",
      "22     NaN  20.500  17.9  14.4  12.3   7.5  10.0   9.800   6.400000\n",
      "23     NaN  24.700  21.8  17.0  14.8  10.1  12.8  12.900   9.200000\n",
      "24     NaN  22.000  18.3  12.7  10.8   6.9   9.4   9.000   6.100000\n",
      "25     NaN  23.104  17.4  15.9  12.0   7.3  12.0  12.100  11.000000\n"
     ]
    }
   ],
   "source": [
    "df = df.fillna(df.mean())\n",
    "print(df)"
   ]
  },
  {
   "cell_type": "code",
   "execution_count": 13,
   "id": "967cf658-00d4-4ae8-bf73-0c6e08fcbc15",
   "metadata": {},
   "outputs": [
    {
     "name": "stdout",
     "output_type": "stream",
     "text": [
      "[2, 6, 8, 12, 14, 16, 20, 23, 25]\n"
     ]
    }
   ],
   "source": [
    "average_birth_rate_2019 = df['2019'].mean()\n",
    "regions_above_average_2019 = df[df['2019'] > average_birth_rate_2019].index.tolist()\n",
    "print(regions_above_average_2019)"
   ]
  },
  {
   "cell_type": "code",
   "execution_count": 14,
   "id": "e5731e4c-738e-45f5-bbe8-5ffe23fe3c68",
   "metadata": {},
   "outputs": [
    {
     "name": "stdout",
     "output_type": "stream",
     "text": [
      "16\n"
     ]
    }
   ],
   "source": [
    "region_highest_birth_rate_2014 = df['2014'].idxmax()\n",
    "print(region_highest_birth_rate_2014)"
   ]
  },
  {
   "cell_type": "code",
   "execution_count": 15,
   "id": "f4b5dfcd-e8f3-4ffb-89eb-f1276d9d41ed",
   "metadata": {},
   "outputs": [
    {
     "data": {
      "image/png": "[encoded data removed]",
      "text/plain": [
       "<Figure size 1200x600 with 1 Axes>"
      ]
     },
     "metadata": {},
     "output_type": "display_data"
    }
   ],
   "source": [
    "df['2019'].plot(kind='bar', figsize=(12, 6))\n",
    "plt.title('Рождаемость по регионам в 2019 году')\n",
    "plt.xlabel('Регион')\n",
    "plt.ylabel('Рождаемость')\n",
    "plt.show()"
   ]
  },
  {
   "cell_type": "code",
   "execution_count": null,
   "id": "643bc15d-c539-49c7-8814-2c2376e2f4e8",
   "metadata": {},
   "outputs": [],
   "source": []
  }
 ],
 "metadata": {
  "kernelspec": {
   "display_name": "Python 3 (ipykernel)",
   "language": "python",
   "name": "python3"
  },
  "language_info": {
   "codemirror_mode": {
    "name": "ipython",
    "version": 3
   },
   "file_extension": ".py",
   "mimetype": "text/x-python",
   "name": "python",
   "nbconvert_exporter": "python",
   "pygments_lexer": "ipython3",
   "version": "3.11.7"
  }
 },
 "nbformat": 4,
 "nbformat_minor": 5
}
